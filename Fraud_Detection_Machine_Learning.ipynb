{
 "cells": [
  {
   "cell_type": "markdown",
   "id": "2C27ywkylrWe",
   "metadata": {
    "id": "2C27ywkylrWe"
   },
   "source": [
    "# <ul> Data preprocessing"
   ]
  },
  {
   "cell_type": "code",
   "execution_count": 62,
   "id": "b0c79f87",
   "metadata": {
    "executionInfo": {
     "elapsed": 715,
     "status": "ok",
     "timestamp": 1730557401420,
     "user": {
      "displayName": "mostafa shehab",
      "userId": "04259138105991149129"
     },
     "user_tz": -120
    },
    "id": "b0c79f87"
   },
   "outputs": [],
   "source": [
    "#imporatant librabaries\n",
    "import numpy as np\n",
    "import pandas as pd\n",
    "import seaborn as sns\n",
    "import matplotlib.pyplot as plt\n",
    "import warnings\n",
    "warnings.filterwarnings('ignore')"
   ]
  },
  {
   "cell_type": "code",
   "execution_count": 63,
   "id": "8e699dfa",
   "metadata": {
    "colab": {
     "base_uri": "https://localhost:8080/",
     "height": 206
    },
    "executionInfo": {
     "elapsed": 6,
     "status": "ok",
     "timestamp": 1730557401936,
     "user": {
      "displayName": "mostafa shehab",
      "userId": "04259138105991149129"
     },
     "user_tz": -120
    },
    "id": "8e699dfa",
    "outputId": "99e378a9-fee4-4fe2-d966-b38262616d4b",
    "scrolled": true
   },
   "outputs": [
    {
     "data": {
      "application/vnd.google.colaboratory.intrinsic+json": {
       "summary": "{\n  \"name\": \"df\",\n  \"rows\": 504,\n  \"fields\": [\n    {\n      \"column\": \"Percen\",\n      \"properties\": {\n        \"dtype\": \"number\",\n        \"std\": 15.5877862223711,\n        \"min\": 1.010123168,\n        \"max\": 79.54271175,\n        \"num_unique_values\": 502,\n        \"samples\": [\n          1.232145281,\n          55.30861886,\n          51.00052849\n        ],\n        \"semantic_type\": \"\",\n        \"description\": \"\"\n      }\n    },\n    {\n      \"column\": \"Mon\",\n      \"properties\": {\n        \"dtype\": \"number\",\n        \"std\": 13661408.367325252,\n        \"min\": 552292.4296,\n        \"max\": 79199755.6,\n        \"num_unique_values\": 502,\n        \"samples\": [\n          10590327.76,\n          14412581.95,\n          18445037.28\n        ],\n        \"semantic_type\": \"\",\n        \"description\": \"\"\n      }\n    },\n    {\n      \"column\": \"Mark\",\n      \"properties\": {\n        \"dtype\": \"number\",\n        \"std\": 5.846715611447175,\n        \"min\": 35.00665012,\n        \"max\": 54.94156314,\n        \"num_unique_values\": 504,\n        \"samples\": [\n          40.47582615,\n          45.40593154,\n          43.71010909\n        ],\n        \"semantic_type\": \"\",\n        \"description\": \"\"\n      }\n    },\n    {\n      \"column\": \"target\",\n      \"properties\": {\n        \"dtype\": \"number\",\n        \"std\": 0,\n        \"min\": 0,\n        \"max\": 1,\n        \"num_unique_values\": 2,\n        \"samples\": [\n          0,\n          1\n        ],\n        \"semantic_type\": \"\",\n        \"description\": \"\"\n      }\n    }\n  ]\n}",
       "type": "dataframe",
       "variable_name": "df"
      },
      "text/html": [
       "\n",
       "  <div id=\"df-84e48097-1d59-4ab4-be72-d0405ee3ffea\" class=\"colab-df-container\">\n",
       "    <div>\n",
       "<style scoped>\n",
       "    .dataframe tbody tr th:only-of-type {\n",
       "        vertical-align: middle;\n",
       "    }\n",
       "\n",
       "    .dataframe tbody tr th {\n",
       "        vertical-align: top;\n",
       "    }\n",
       "\n",
       "    .dataframe thead th {\n",
       "        text-align: right;\n",
       "    }\n",
       "</style>\n",
       "<table border=\"1\" class=\"dataframe\">\n",
       "  <thead>\n",
       "    <tr style=\"text-align: right;\">\n",
       "      <th></th>\n",
       "      <th>Percen</th>\n",
       "      <th>Mon</th>\n",
       "      <th>Mark</th>\n",
       "      <th>target</th>\n",
       "    </tr>\n",
       "  </thead>\n",
       "  <tbody>\n",
       "    <tr>\n",
       "      <th>0</th>\n",
       "      <td>1.244076</td>\n",
       "      <td>1.532604e+07</td>\n",
       "      <td>45.649624</td>\n",
       "      <td>1</td>\n",
       "    </tr>\n",
       "    <tr>\n",
       "      <th>1</th>\n",
       "      <td>2.511102</td>\n",
       "      <td>1.076490e+07</td>\n",
       "      <td>49.428441</td>\n",
       "      <td>0</td>\n",
       "    </tr>\n",
       "    <tr>\n",
       "      <th>2</th>\n",
       "      <td>1.391966</td>\n",
       "      <td>7.494251e+06</td>\n",
       "      <td>37.825561</td>\n",
       "      <td>1</td>\n",
       "    </tr>\n",
       "    <tr>\n",
       "      <th>3</th>\n",
       "      <td>1.289790</td>\n",
       "      <td>1.083943e+07</td>\n",
       "      <td>39.239650</td>\n",
       "      <td>1</td>\n",
       "    </tr>\n",
       "    <tr>\n",
       "      <th>4</th>\n",
       "      <td>7.440627</td>\n",
       "      <td>1.436223e+07</td>\n",
       "      <td>51.374700</td>\n",
       "      <td>1</td>\n",
       "    </tr>\n",
       "  </tbody>\n",
       "</table>\n",
       "</div>\n",
       "    <div class=\"colab-df-buttons\">\n",
       "\n",
       "  <div class=\"colab-df-container\">\n",
       "    <button class=\"colab-df-convert\" onclick=\"convertToInteractive('df-84e48097-1d59-4ab4-be72-d0405ee3ffea')\"\n",
       "            title=\"Convert this dataframe to an interactive table.\"\n",
       "            style=\"display:none;\">\n",
       "\n",
       "  <svg xmlns=\"http://www.w3.org/2000/svg\" height=\"24px\" viewBox=\"0 -960 960 960\">\n",
       "    <path d=\"M120-120v-720h720v720H120Zm60-500h600v-160H180v160Zm220 220h160v-160H400v160Zm0 220h160v-160H400v160ZM180-400h160v-160H180v160Zm440 0h160v-160H620v160ZM180-180h160v-160H180v160Zm440 0h160v-160H620v160Z\"/>\n",
       "  </svg>\n",
       "    </button>\n",
       "\n",
       "  <style>\n",
       "    .colab-df-container {\n",
       "      display:flex;\n",
       "      gap: 12px;\n",
       "    }\n",
       "\n",
       "    .colab-df-convert {\n",
       "      background-color: #E8F0FE;\n",
       "      border: none;\n",
       "      border-radius: 50%;\n",
       "      cursor: pointer;\n",
       "      display: none;\n",
       "      fill: #1967D2;\n",
       "      height: 32px;\n",
       "      padding: 0 0 0 0;\n",
       "      width: 32px;\n",
       "    }\n",
       "\n",
       "    .colab-df-convert:hover {\n",
       "      background-color: #E2EBFA;\n",
       "      box-shadow: 0px 1px 2px rgba(60, 64, 67, 0.3), 0px 1px 3px 1px rgba(60, 64, 67, 0.15);\n",
       "      fill: #174EA6;\n",
       "    }\n",
       "\n",
       "    .colab-df-buttons div {\n",
       "      margin-bottom: 4px;\n",
       "    }\n",
       "\n",
       "    [theme=dark] .colab-df-convert {\n",
       "      background-color: #3B4455;\n",
       "      fill: #D2E3FC;\n",
       "    }\n",
       "\n",
       "    [theme=dark] .colab-df-convert:hover {\n",
       "      background-color: #434B5C;\n",
       "      box-shadow: 0px 1px 3px 1px rgba(0, 0, 0, 0.15);\n",
       "      filter: drop-shadow(0px 1px 2px rgba(0, 0, 0, 0.3));\n",
       "      fill: #FFFFFF;\n",
       "    }\n",
       "  </style>\n",
       "\n",
       "    <script>\n",
       "      const buttonEl =\n",
       "        document.querySelector('#df-84e48097-1d59-4ab4-be72-d0405ee3ffea button.colab-df-convert');\n",
       "      buttonEl.style.display =\n",
       "        google.colab.kernel.accessAllowed ? 'block' : 'none';\n",
       "\n",
       "      async function convertToInteractive(key) {\n",
       "        const element = document.querySelector('#df-84e48097-1d59-4ab4-be72-d0405ee3ffea');\n",
       "        const dataTable =\n",
       "          await google.colab.kernel.invokeFunction('convertToInteractive',\n",
       "                                                    [key], {});\n",
       "        if (!dataTable) return;\n",
       "\n",
       "        const docLinkHtml = 'Like what you see? Visit the ' +\n",
       "          '<a target=\"_blank\" href=https://colab.research.google.com/notebooks/data_table.ipynb>data table notebook</a>'\n",
       "          + ' to learn more about interactive tables.';\n",
       "        element.innerHTML = '';\n",
       "        dataTable['output_type'] = 'display_data';\n",
       "        await google.colab.output.renderOutput(dataTable, element);\n",
       "        const docLink = document.createElement('div');\n",
       "        docLink.innerHTML = docLinkHtml;\n",
       "        element.appendChild(docLink);\n",
       "      }\n",
       "    </script>\n",
       "  </div>\n",
       "\n",
       "\n",
       "<div id=\"df-64eaaf3a-23f8-4844-923d-fca5cbee188d\">\n",
       "  <button class=\"colab-df-quickchart\" onclick=\"quickchart('df-64eaaf3a-23f8-4844-923d-fca5cbee188d')\"\n",
       "            title=\"Suggest charts\"\n",
       "            style=\"display:none;\">\n",
       "\n",
       "<svg xmlns=\"http://www.w3.org/2000/svg\" height=\"24px\"viewBox=\"0 0 24 24\"\n",
       "     width=\"24px\">\n",
       "    <g>\n",
       "        <path d=\"M19 3H5c-1.1 0-2 .9-2 2v14c0 1.1.9 2 2 2h14c1.1 0 2-.9 2-2V5c0-1.1-.9-2-2-2zM9 17H7v-7h2v7zm4 0h-2V7h2v10zm4 0h-2v-4h2v4z\"/>\n",
       "    </g>\n",
       "</svg>\n",
       "  </button>\n",
       "\n",
       "<style>\n",
       "  .colab-df-quickchart {\n",
       "      --bg-color: #E8F0FE;\n",
       "      --fill-color: #1967D2;\n",
       "      --hover-bg-color: #E2EBFA;\n",
       "      --hover-fill-color: #174EA6;\n",
       "      --disabled-fill-color: #AAA;\n",
       "      --disabled-bg-color: #DDD;\n",
       "  }\n",
       "\n",
       "  [theme=dark] .colab-df-quickchart {\n",
       "      --bg-color: #3B4455;\n",
       "      --fill-color: #D2E3FC;\n",
       "      --hover-bg-color: #434B5C;\n",
       "      --hover-fill-color: #FFFFFF;\n",
       "      --disabled-bg-color: #3B4455;\n",
       "      --disabled-fill-color: #666;\n",
       "  }\n",
       "\n",
       "  .colab-df-quickchart {\n",
       "    background-color: var(--bg-color);\n",
       "    border: none;\n",
       "    border-radius: 50%;\n",
       "    cursor: pointer;\n",
       "    display: none;\n",
       "    fill: var(--fill-color);\n",
       "    height: 32px;\n",
       "    padding: 0;\n",
       "    width: 32px;\n",
       "  }\n",
       "\n",
       "  .colab-df-quickchart:hover {\n",
       "    background-color: var(--hover-bg-color);\n",
       "    box-shadow: 0 1px 2px rgba(60, 64, 67, 0.3), 0 1px 3px 1px rgba(60, 64, 67, 0.15);\n",
       "    fill: var(--button-hover-fill-color);\n",
       "  }\n",
       "\n",
       "  .colab-df-quickchart-complete:disabled,\n",
       "  .colab-df-quickchart-complete:disabled:hover {\n",
       "    background-color: var(--disabled-bg-color);\n",
       "    fill: var(--disabled-fill-color);\n",
       "    box-shadow: none;\n",
       "  }\n",
       "\n",
       "  .colab-df-spinner {\n",
       "    border: 2px solid var(--fill-color);\n",
       "    border-color: transparent;\n",
       "    border-bottom-color: var(--fill-color);\n",
       "    animation:\n",
       "      spin 1s steps(1) infinite;\n",
       "  }\n",
       "\n",
       "  @keyframes spin {\n",
       "    0% {\n",
       "      border-color: transparent;\n",
       "      border-bottom-color: var(--fill-color);\n",
       "      border-left-color: var(--fill-color);\n",
       "    }\n",
       "    20% {\n",
       "      border-color: transparent;\n",
       "      border-left-color: var(--fill-color);\n",
       "      border-top-color: var(--fill-color);\n",
       "    }\n",
       "    30% {\n",
       "      border-color: transparent;\n",
       "      border-left-color: var(--fill-color);\n",
       "      border-top-color: var(--fill-color);\n",
       "      border-right-color: var(--fill-color);\n",
       "    }\n",
       "    40% {\n",
       "      border-color: transparent;\n",
       "      border-right-color: var(--fill-color);\n",
       "      border-top-color: var(--fill-color);\n",
       "    }\n",
       "    60% {\n",
       "      border-color: transparent;\n",
       "      border-right-color: var(--fill-color);\n",
       "    }\n",
       "    80% {\n",
       "      border-color: transparent;\n",
       "      border-right-color: var(--fill-color);\n",
       "      border-bottom-color: var(--fill-color);\n",
       "    }\n",
       "    90% {\n",
       "      border-color: transparent;\n",
       "      border-bottom-color: var(--fill-color);\n",
       "    }\n",
       "  }\n",
       "</style>\n",
       "\n",
       "  <script>\n",
       "    async function quickchart(key) {\n",
       "      const quickchartButtonEl =\n",
       "        document.querySelector('#' + key + ' button');\n",
       "      quickchartButtonEl.disabled = true;  // To prevent multiple clicks.\n",
       "      quickchartButtonEl.classList.add('colab-df-spinner');\n",
       "      try {\n",
       "        const charts = await google.colab.kernel.invokeFunction(\n",
       "            'suggestCharts', [key], {});\n",
       "      } catch (error) {\n",
       "        console.error('Error during call to suggestCharts:', error);\n",
       "      }\n",
       "      quickchartButtonEl.classList.remove('colab-df-spinner');\n",
       "      quickchartButtonEl.classList.add('colab-df-quickchart-complete');\n",
       "    }\n",
       "    (() => {\n",
       "      let quickchartButtonEl =\n",
       "        document.querySelector('#df-64eaaf3a-23f8-4844-923d-fca5cbee188d button');\n",
       "      quickchartButtonEl.style.display =\n",
       "        google.colab.kernel.accessAllowed ? 'block' : 'none';\n",
       "    })();\n",
       "  </script>\n",
       "</div>\n",
       "\n",
       "    </div>\n",
       "  </div>\n"
      ],
      "text/plain": [
       "     Percen           Mon       Mark  target\n",
       "0  1.244076  1.532604e+07  45.649624       1\n",
       "1  2.511102  1.076490e+07  49.428441       0\n",
       "2  1.391966  7.494251e+06  37.825561       1\n",
       "3  1.289790  1.083943e+07  39.239650       1\n",
       "4  7.440627  1.436223e+07  51.374700       1"
      ]
     },
     "execution_count": 63,
     "metadata": {},
     "output_type": "execute_result"
    }
   ],
   "source": [
    "# READ THE DATA and DISPLAY THE HEAD\n",
    "df=pd.read_csv(\"OctData3.csv\")\n",
    "df.head(5)"
   ]
  },
  {
   "cell_type": "code",
   "execution_count": 64,
   "id": "pFho8qMfPTGr",
   "metadata": {
    "executionInfo": {
     "elapsed": 325,
     "status": "ok",
     "timestamp": 1730557404121,
     "user": {
      "displayName": "mostafa shehab",
      "userId": "04259138105991149129"
     },
     "user_tz": -120
    },
    "id": "pFho8qMfPTGr"
   },
   "outputs": [],
   "source": [
    "df[\"Percen\"] = df[\"Percen\"]  * 1000000\n",
    "df[\"Mon\"]    = df[\"Mon\"]  * 1000000\n",
    "df[\"Mark\"]   = df[\"Mark\"]  * 1000000"
   ]
  },
  {
   "cell_type": "code",
   "execution_count": 65,
   "id": "07ec095e",
   "metadata": {
    "colab": {
     "base_uri": "https://localhost:8080/",
     "height": 178
    },
    "executionInfo": {
     "elapsed": 6,
     "status": "ok",
     "timestamp": 1730557405099,
     "user": {
      "displayName": "mostafa shehab",
      "userId": "04259138105991149129"
     },
     "user_tz": -120
    },
    "id": "07ec095e",
    "outputId": "e60c5265-f1a1-4526-9d3b-d101147c4f94"
   },
   "outputs": [
    {
     "data": {
      "text/html": [
       "<div>\n",
       "<style scoped>\n",
       "    .dataframe tbody tr th:only-of-type {\n",
       "        vertical-align: middle;\n",
       "    }\n",
       "\n",
       "    .dataframe tbody tr th {\n",
       "        vertical-align: top;\n",
       "    }\n",
       "\n",
       "    .dataframe thead th {\n",
       "        text-align: right;\n",
       "    }\n",
       "</style>\n",
       "<table border=\"1\" class=\"dataframe\">\n",
       "  <thead>\n",
       "    <tr style=\"text-align: right;\">\n",
       "      <th></th>\n",
       "      <th>count</th>\n",
       "    </tr>\n",
       "    <tr>\n",
       "      <th>target</th>\n",
       "      <th></th>\n",
       "    </tr>\n",
       "  </thead>\n",
       "  <tbody>\n",
       "    <tr>\n",
       "      <th>1</th>\n",
       "      <td>374</td>\n",
       "    </tr>\n",
       "    <tr>\n",
       "      <th>0</th>\n",
       "      <td>130</td>\n",
       "    </tr>\n",
       "  </tbody>\n",
       "</table>\n",
       "</div><br><label><b>dtype:</b> int64</label>"
      ],
      "text/plain": [
       "target\n",
       "1    374\n",
       "0    130\n",
       "Name: count, dtype: int64"
      ]
     },
     "execution_count": 65,
     "metadata": {},
     "output_type": "execute_result"
    }
   ],
   "source": [
    "df[\"target\"].value_counts()"
   ]
  },
  {
   "cell_type": "code",
   "execution_count": 66,
   "id": "10d3d4cb",
   "metadata": {
    "colab": {
     "base_uri": "https://localhost:8080/"
    },
    "executionInfo": {
     "elapsed": 3,
     "status": "ok",
     "timestamp": 1730557406374,
     "user": {
      "displayName": "mostafa shehab",
      "userId": "04259138105991149129"
     },
     "user_tz": -120
    },
    "id": "10d3d4cb",
    "outputId": "3c4e78ac-f96d-4293-b511-390a514bffdf"
   },
   "outputs": [
    {
     "name": "stdout",
     "output_type": "stream",
     "text": [
      "The data is consist of 504 records \n",
      "The features are 4\n"
     ]
    }
   ],
   "source": [
    "x,y= df.shape\n",
    "print(\"The data is consist of {} records \".format(x))\n",
    "print(\"The features are {}\".format(y))"
   ]
  },
  {
   "cell_type": "code",
   "execution_count": 67,
   "id": "65b19bae",
   "metadata": {
    "colab": {
     "base_uri": "https://localhost:8080/"
    },
    "executionInfo": {
     "elapsed": 374,
     "status": "ok",
     "timestamp": 1730557408102,
     "user": {
      "displayName": "mostafa shehab",
      "userId": "04259138105991149129"
     },
     "user_tz": -120
    },
    "id": "65b19bae",
    "outputId": "f9dcf62c-5bdb-4848-ef03-8aea8c4cd961"
   },
   "outputs": [
    {
     "name": "stdout",
     "output_type": "stream",
     "text": [
      "<class 'pandas.core.frame.DataFrame'>\n",
      "RangeIndex: 504 entries, 0 to 503\n",
      "Data columns (total 4 columns):\n",
      " #   Column  Non-Null Count  Dtype  \n",
      "---  ------  --------------  -----  \n",
      " 0   Percen  504 non-null    float64\n",
      " 1   Mon     504 non-null    float64\n",
      " 2   Mark    504 non-null    float64\n",
      " 3   target  504 non-null    int64  \n",
      "dtypes: float64(3), int64(1)\n",
      "memory usage: 15.9 KB\n"
     ]
    }
   ],
   "source": [
    "# APPLY SOME EDA FOR THE DATA\n",
    "df.info()"
   ]
  },
  {
   "cell_type": "code",
   "execution_count": 68,
   "id": "dbc80b78",
   "metadata": {
    "colab": {
     "base_uri": "https://localhost:8080/",
     "height": 209
    },
    "executionInfo": {
     "elapsed": 6,
     "status": "ok",
     "timestamp": 1730557409120,
     "user": {
      "displayName": "mostafa shehab",
      "userId": "04259138105991149129"
     },
     "user_tz": -120
    },
    "id": "dbc80b78",
    "outputId": "acedf425-5755-419c-da28-7533b2a383c0"
   },
   "outputs": [
    {
     "data": {
      "text/html": [
       "<div>\n",
       "<style scoped>\n",
       "    .dataframe tbody tr th:only-of-type {\n",
       "        vertical-align: middle;\n",
       "    }\n",
       "\n",
       "    .dataframe tbody tr th {\n",
       "        vertical-align: top;\n",
       "    }\n",
       "\n",
       "    .dataframe thead th {\n",
       "        text-align: right;\n",
       "    }\n",
       "</style>\n",
       "<table border=\"1\" class=\"dataframe\">\n",
       "  <thead>\n",
       "    <tr style=\"text-align: right;\">\n",
       "      <th></th>\n",
       "      <th>0</th>\n",
       "    </tr>\n",
       "  </thead>\n",
       "  <tbody>\n",
       "    <tr>\n",
       "      <th>Percen</th>\n",
       "      <td>0.0</td>\n",
       "    </tr>\n",
       "    <tr>\n",
       "      <th>Mon</th>\n",
       "      <td>0.0</td>\n",
       "    </tr>\n",
       "    <tr>\n",
       "      <th>Mark</th>\n",
       "      <td>0.0</td>\n",
       "    </tr>\n",
       "    <tr>\n",
       "      <th>target</th>\n",
       "      <td>0.0</td>\n",
       "    </tr>\n",
       "  </tbody>\n",
       "</table>\n",
       "</div><br><label><b>dtype:</b> float64</label>"
      ],
      "text/plain": [
       "Percen    0.0\n",
       "Mon       0.0\n",
       "Mark      0.0\n",
       "target    0.0\n",
       "dtype: float64"
      ]
     },
     "execution_count": 68,
     "metadata": {},
     "output_type": "execute_result"
    }
   ],
   "source": [
    "# find th null values precentage %\n",
    "df.isnull().sum()/df.shape[0]*100"
   ]
  },
  {
   "cell_type": "code",
   "execution_count": 69,
   "id": "686801a5",
   "metadata": {
    "colab": {
     "base_uri": "https://localhost:8080/"
    },
    "executionInfo": {
     "elapsed": 269,
     "status": "ok",
     "timestamp": 1730557411092,
     "user": {
      "displayName": "mostafa shehab",
      "userId": "04259138105991149129"
     },
     "user_tz": -120
    },
    "id": "686801a5",
    "outputId": "186a9d5d-9f79-4855-994c-7acce15b2f6c"
   },
   "outputs": [
    {
     "data": {
      "text/plain": [
       "0.0"
      ]
     },
     "execution_count": 69,
     "metadata": {},
     "output_type": "execute_result"
    }
   ],
   "source": [
    "# find the duplicated values as percentage %\n",
    "df.duplicated().sum()/df.shape[0]*100"
   ]
  },
  {
   "cell_type": "code",
   "execution_count": 70,
   "id": "723efbb0",
   "metadata": {
    "colab": {
     "base_uri": "https://localhost:8080/",
     "height": 174
    },
    "executionInfo": {
     "elapsed": 322,
     "status": "ok",
     "timestamp": 1730557412478,
     "user": {
      "displayName": "mostafa shehab",
      "userId": "04259138105991149129"
     },
     "user_tz": -120
    },
    "id": "723efbb0",
    "outputId": "c6a2d93e-cde0-4c9b-9c1e-fc02e055b968"
   },
   "outputs": [
    {
     "data": {
      "application/vnd.google.colaboratory.intrinsic+json": {
       "summary": "{\n  \"name\": \"df\",\n  \"rows\": 4,\n  \"fields\": [\n    {\n      \"column\": \"count\",\n      \"properties\": {\n        \"dtype\": \"number\",\n        \"std\": 0.0,\n        \"min\": 504.0,\n        \"max\": 504.0,\n        \"num_unique_values\": 1,\n        \"samples\": [\n          504.0\n        ],\n        \"semantic_type\": \"\",\n        \"description\": \"\"\n      }\n    },\n    {\n      \"column\": \"mean\",\n      \"properties\": {\n        \"dtype\": \"number\",\n        \"std\": 7049414463916.671,\n        \"min\": 0.7420634920634921,\n        \"max\": 14098846484863.096,\n        \"num_unique_values\": 4,\n        \"samples\": [\n          14098846484863.096\n        ],\n        \"semantic_type\": \"\",\n        \"description\": \"\"\n      }\n    },\n    {\n      \"column\": \"std\",\n      \"properties\": {\n        \"dtype\": \"number\",\n        \"std\": 6830700611248.605,\n        \"min\": 0.43793354881470903,\n        \"max\": 13661408367325.25,\n        \"num_unique_values\": 4,\n        \"samples\": [\n          13661408367325.25\n        ],\n        \"semantic_type\": \"\",\n        \"description\": \"\"\n      }\n    },\n    {\n      \"column\": \"min\",\n      \"properties\": {\n        \"dtype\": \"number\",\n        \"std\": 276140212483.72736,\n        \"min\": 0.0,\n        \"max\": 552292429600.0,\n        \"num_unique_values\": 4,\n        \"samples\": [\n          552292429600.0\n        ],\n        \"semantic_type\": \"\",\n        \"description\": \"\"\n      }\n    },\n    {\n      \"column\": \"25%\",\n      \"properties\": {\n        \"dtype\": \"number\",\n        \"std\": 3048411553732.0103,\n        \"min\": 0.0,\n        \"max\": 6096836834750.0,\n        \"num_unique_values\": 4,\n        \"samples\": [\n          6096836834750.0\n        ],\n        \"semantic_type\": \"\",\n        \"description\": \"\"\n      }\n    },\n    {\n      \"column\": \"50%\",\n      \"properties\": {\n        \"dtype\": \"number\",\n        \"std\": 5651051319965.767,\n        \"min\": 1.0,\n        \"max\": 11302118385000.0,\n        \"num_unique_values\": 4,\n        \"samples\": [\n          11302118385000.0\n        ],\n        \"semantic_type\": \"\",\n        \"description\": \"\"\n      }\n    },\n    {\n      \"column\": \"75%\",\n      \"properties\": {\n        \"dtype\": \"number\",\n        \"std\": 8511820859087.165,\n        \"min\": 1.0,\n        \"max\": 17023660265000.0,\n        \"num_unique_values\": 4,\n        \"samples\": [\n          17023660265000.0\n        ],\n        \"semantic_type\": \"\",\n        \"description\": \"\"\n      }\n    },\n    {\n      \"column\": \"max\",\n      \"properties\": {\n        \"dtype\": \"number\",\n        \"std\": 39599855385967.98,\n        \"min\": 1.0,\n        \"max\": 79199755600000.0,\n        \"num_unique_values\": 4,\n        \"samples\": [\n          79199755600000.0\n        ],\n        \"semantic_type\": \"\",\n        \"description\": \"\"\n      }\n    }\n  ]\n}",
       "type": "dataframe"
      },
      "text/html": [
       "\n",
       "  <div id=\"df-7692f969-25f5-498a-8219-68bc4e7b8321\" class=\"colab-df-container\">\n",
       "    <div>\n",
       "<style scoped>\n",
       "    .dataframe tbody tr th:only-of-type {\n",
       "        vertical-align: middle;\n",
       "    }\n",
       "\n",
       "    .dataframe tbody tr th {\n",
       "        vertical-align: top;\n",
       "    }\n",
       "\n",
       "    .dataframe thead th {\n",
       "        text-align: right;\n",
       "    }\n",
       "</style>\n",
       "<table border=\"1\" class=\"dataframe\">\n",
       "  <thead>\n",
       "    <tr style=\"text-align: right;\">\n",
       "      <th></th>\n",
       "      <th>count</th>\n",
       "      <th>mean</th>\n",
       "      <th>std</th>\n",
       "      <th>min</th>\n",
       "      <th>25%</th>\n",
       "      <th>50%</th>\n",
       "      <th>75%</th>\n",
       "      <th>max</th>\n",
       "    </tr>\n",
       "  </thead>\n",
       "  <tbody>\n",
       "    <tr>\n",
       "      <th>Percen</th>\n",
       "      <td>504.0</td>\n",
       "      <td>7.855566e+06</td>\n",
       "      <td>1.558779e+07</td>\n",
       "      <td>1.010123e+06</td>\n",
       "      <td>1.671872e+06</td>\n",
       "      <td>2.406677e+06</td>\n",
       "      <td>5.691398e+06</td>\n",
       "      <td>7.954271e+07</td>\n",
       "    </tr>\n",
       "    <tr>\n",
       "      <th>Mon</th>\n",
       "      <td>504.0</td>\n",
       "      <td>1.409885e+13</td>\n",
       "      <td>1.366141e+13</td>\n",
       "      <td>5.522924e+11</td>\n",
       "      <td>6.096837e+12</td>\n",
       "      <td>1.130212e+13</td>\n",
       "      <td>1.702366e+13</td>\n",
       "      <td>7.919976e+13</td>\n",
       "    </tr>\n",
       "    <tr>\n",
       "      <th>Mark</th>\n",
       "      <td>504.0</td>\n",
       "      <td>4.481568e+07</td>\n",
       "      <td>5.846716e+06</td>\n",
       "      <td>3.500665e+07</td>\n",
       "      <td>3.951031e+07</td>\n",
       "      <td>4.482875e+07</td>\n",
       "      <td>4.994925e+07</td>\n",
       "      <td>5.494156e+07</td>\n",
       "    </tr>\n",
       "    <tr>\n",
       "      <th>target</th>\n",
       "      <td>504.0</td>\n",
       "      <td>7.420635e-01</td>\n",
       "      <td>4.379335e-01</td>\n",
       "      <td>0.000000e+00</td>\n",
       "      <td>0.000000e+00</td>\n",
       "      <td>1.000000e+00</td>\n",
       "      <td>1.000000e+00</td>\n",
       "      <td>1.000000e+00</td>\n",
       "    </tr>\n",
       "  </tbody>\n",
       "</table>\n",
       "</div>\n",
       "    <div class=\"colab-df-buttons\">\n",
       "\n",
       "  <div class=\"colab-df-container\">\n",
       "    <button class=\"colab-df-convert\" onclick=\"convertToInteractive('df-7692f969-25f5-498a-8219-68bc4e7b8321')\"\n",
       "            title=\"Convert this dataframe to an interactive table.\"\n",
       "            style=\"display:none;\">\n",
       "\n",
       "  <svg xmlns=\"http://www.w3.org/2000/svg\" height=\"24px\" viewBox=\"0 -960 960 960\">\n",
       "    <path d=\"M120-120v-720h720v720H120Zm60-500h600v-160H180v160Zm220 220h160v-160H400v160Zm0 220h160v-160H400v160ZM180-400h160v-160H180v160Zm440 0h160v-160H620v160ZM180-180h160v-160H180v160Zm440 0h160v-160H620v160Z\"/>\n",
       "  </svg>\n",
       "    </button>\n",
       "\n",
       "  <style>\n",
       "    .colab-df-container {\n",
       "      display:flex;\n",
       "      gap: 12px;\n",
       "    }\n",
       "\n",
       "    .colab-df-convert {\n",
       "      background-color: #E8F0FE;\n",
       "      border: none;\n",
       "      border-radius: 50%;\n",
       "      cursor: pointer;\n",
       "      display: none;\n",
       "      fill: #1967D2;\n",
       "      height: 32px;\n",
       "      padding: 0 0 0 0;\n",
       "      width: 32px;\n",
       "    }\n",
       "\n",
       "    .colab-df-convert:hover {\n",
       "      background-color: #E2EBFA;\n",
       "      box-shadow: 0px 1px 2px rgba(60, 64, 67, 0.3), 0px 1px 3px 1px rgba(60, 64, 67, 0.15);\n",
       "      fill: #174EA6;\n",
       "    }\n",
       "\n",
       "    .colab-df-buttons div {\n",
       "      margin-bottom: 4px;\n",
       "    }\n",
       "\n",
       "    [theme=dark] .colab-df-convert {\n",
       "      background-color: #3B4455;\n",
       "      fill: #D2E3FC;\n",
       "    }\n",
       "\n",
       "    [theme=dark] .colab-df-convert:hover {\n",
       "      background-color: #434B5C;\n",
       "      box-shadow: 0px 1px 3px 1px rgba(0, 0, 0, 0.15);\n",
       "      filter: drop-shadow(0px 1px 2px rgba(0, 0, 0, 0.3));\n",
       "      fill: #FFFFFF;\n",
       "    }\n",
       "  </style>\n",
       "\n",
       "    <script>\n",
       "      const buttonEl =\n",
       "        document.querySelector('#df-7692f969-25f5-498a-8219-68bc4e7b8321 button.colab-df-convert');\n",
       "      buttonEl.style.display =\n",
       "        google.colab.kernel.accessAllowed ? 'block' : 'none';\n",
       "\n",
       "      async function convertToInteractive(key) {\n",
       "        const element = document.querySelector('#df-7692f969-25f5-498a-8219-68bc4e7b8321');\n",
       "        const dataTable =\n",
       "          await google.colab.kernel.invokeFunction('convertToInteractive',\n",
       "                                                    [key], {});\n",
       "        if (!dataTable) return;\n",
       "\n",
       "        const docLinkHtml = 'Like what you see? Visit the ' +\n",
       "          '<a target=\"_blank\" href=https://colab.research.google.com/notebooks/data_table.ipynb>data table notebook</a>'\n",
       "          + ' to learn more about interactive tables.';\n",
       "        element.innerHTML = '';\n",
       "        dataTable['output_type'] = 'display_data';\n",
       "        await google.colab.output.renderOutput(dataTable, element);\n",
       "        const docLink = document.createElement('div');\n",
       "        docLink.innerHTML = docLinkHtml;\n",
       "        element.appendChild(docLink);\n",
       "      }\n",
       "    </script>\n",
       "  </div>\n",
       "\n",
       "\n",
       "<div id=\"df-fe4596c2-c762-4089-b658-41f4fd0039fe\">\n",
       "  <button class=\"colab-df-quickchart\" onclick=\"quickchart('df-fe4596c2-c762-4089-b658-41f4fd0039fe')\"\n",
       "            title=\"Suggest charts\"\n",
       "            style=\"display:none;\">\n",
       "\n",
       "<svg xmlns=\"http://www.w3.org/2000/svg\" height=\"24px\"viewBox=\"0 0 24 24\"\n",
       "     width=\"24px\">\n",
       "    <g>\n",
       "        <path d=\"M19 3H5c-1.1 0-2 .9-2 2v14c0 1.1.9 2 2 2h14c1.1 0 2-.9 2-2V5c0-1.1-.9-2-2-2zM9 17H7v-7h2v7zm4 0h-2V7h2v10zm4 0h-2v-4h2v4z\"/>\n",
       "    </g>\n",
       "</svg>\n",
       "  </button>\n",
       "\n",
       "<style>\n",
       "  .colab-df-quickchart {\n",
       "      --bg-color: #E8F0FE;\n",
       "      --fill-color: #1967D2;\n",
       "      --hover-bg-color: #E2EBFA;\n",
       "      --hover-fill-color: #174EA6;\n",
       "      --disabled-fill-color: #AAA;\n",
       "      --disabled-bg-color: #DDD;\n",
       "  }\n",
       "\n",
       "  [theme=dark] .colab-df-quickchart {\n",
       "      --bg-color: #3B4455;\n",
       "      --fill-color: #D2E3FC;\n",
       "      --hover-bg-color: #434B5C;\n",
       "      --hover-fill-color: #FFFFFF;\n",
       "      --disabled-bg-color: #3B4455;\n",
       "      --disabled-fill-color: #666;\n",
       "  }\n",
       "\n",
       "  .colab-df-quickchart {\n",
       "    background-color: var(--bg-color);\n",
       "    border: none;\n",
       "    border-radius: 50%;\n",
       "    cursor: pointer;\n",
       "    display: none;\n",
       "    fill: var(--fill-color);\n",
       "    height: 32px;\n",
       "    padding: 0;\n",
       "    width: 32px;\n",
       "  }\n",
       "\n",
       "  .colab-df-quickchart:hover {\n",
       "    background-color: var(--hover-bg-color);\n",
       "    box-shadow: 0 1px 2px rgba(60, 64, 67, 0.3), 0 1px 3px 1px rgba(60, 64, 67, 0.15);\n",
       "    fill: var(--button-hover-fill-color);\n",
       "  }\n",
       "\n",
       "  .colab-df-quickchart-complete:disabled,\n",
       "  .colab-df-quickchart-complete:disabled:hover {\n",
       "    background-color: var(--disabled-bg-color);\n",
       "    fill: var(--disabled-fill-color);\n",
       "    box-shadow: none;\n",
       "  }\n",
       "\n",
       "  .colab-df-spinner {\n",
       "    border: 2px solid var(--fill-color);\n",
       "    border-color: transparent;\n",
       "    border-bottom-color: var(--fill-color);\n",
       "    animation:\n",
       "      spin 1s steps(1) infinite;\n",
       "  }\n",
       "\n",
       "  @keyframes spin {\n",
       "    0% {\n",
       "      border-color: transparent;\n",
       "      border-bottom-color: var(--fill-color);\n",
       "      border-left-color: var(--fill-color);\n",
       "    }\n",
       "    20% {\n",
       "      border-color: transparent;\n",
       "      border-left-color: var(--fill-color);\n",
       "      border-top-color: var(--fill-color);\n",
       "    }\n",
       "    30% {\n",
       "      border-color: transparent;\n",
       "      border-left-color: var(--fill-color);\n",
       "      border-top-color: var(--fill-color);\n",
       "      border-right-color: var(--fill-color);\n",
       "    }\n",
       "    40% {\n",
       "      border-color: transparent;\n",
       "      border-right-color: var(--fill-color);\n",
       "      border-top-color: var(--fill-color);\n",
       "    }\n",
       "    60% {\n",
       "      border-color: transparent;\n",
       "      border-right-color: var(--fill-color);\n",
       "    }\n",
       "    80% {\n",
       "      border-color: transparent;\n",
       "      border-right-color: var(--fill-color);\n",
       "      border-bottom-color: var(--fill-color);\n",
       "    }\n",
       "    90% {\n",
       "      border-color: transparent;\n",
       "      border-bottom-color: var(--fill-color);\n",
       "    }\n",
       "  }\n",
       "</style>\n",
       "\n",
       "  <script>\n",
       "    async function quickchart(key) {\n",
       "      const quickchartButtonEl =\n",
       "        document.querySelector('#' + key + ' button');\n",
       "      quickchartButtonEl.disabled = true;  // To prevent multiple clicks.\n",
       "      quickchartButtonEl.classList.add('colab-df-spinner');\n",
       "      try {\n",
       "        const charts = await google.colab.kernel.invokeFunction(\n",
       "            'suggestCharts', [key], {});\n",
       "      } catch (error) {\n",
       "        console.error('Error during call to suggestCharts:', error);\n",
       "      }\n",
       "      quickchartButtonEl.classList.remove('colab-df-spinner');\n",
       "      quickchartButtonEl.classList.add('colab-df-quickchart-complete');\n",
       "    }\n",
       "    (() => {\n",
       "      let quickchartButtonEl =\n",
       "        document.querySelector('#df-fe4596c2-c762-4089-b658-41f4fd0039fe button');\n",
       "      quickchartButtonEl.style.display =\n",
       "        google.colab.kernel.accessAllowed ? 'block' : 'none';\n",
       "    })();\n",
       "  </script>\n",
       "</div>\n",
       "\n",
       "    </div>\n",
       "  </div>\n"
      ],
      "text/plain": [
       "        count          mean           std           min           25%  \\\n",
       "Percen  504.0  7.855566e+06  1.558779e+07  1.010123e+06  1.671872e+06   \n",
       "Mon     504.0  1.409885e+13  1.366141e+13  5.522924e+11  6.096837e+12   \n",
       "Mark    504.0  4.481568e+07  5.846716e+06  3.500665e+07  3.951031e+07   \n",
       "target  504.0  7.420635e-01  4.379335e-01  0.000000e+00  0.000000e+00   \n",
       "\n",
       "                 50%           75%           max  \n",
       "Percen  2.406677e+06  5.691398e+06  7.954271e+07  \n",
       "Mon     1.130212e+13  1.702366e+13  7.919976e+13  \n",
       "Mark    4.482875e+07  4.994925e+07  5.494156e+07  \n",
       "target  1.000000e+00  1.000000e+00  1.000000e+00  "
      ]
     },
     "execution_count": 70,
     "metadata": {},
     "output_type": "execute_result"
    }
   ],
   "source": [
    "df.describe().T"
   ]
  },
  {
   "cell_type": "code",
   "execution_count": 71,
   "id": "3f3f4d6d",
   "metadata": {
    "executionInfo": {
     "elapsed": 272,
     "status": "ok",
     "timestamp": 1730557413943,
     "user": {
      "displayName": "mostafa shehab",
      "userId": "04259138105991149129"
     },
     "user_tz": -120
    },
    "id": "3f3f4d6d"
   },
   "outputs": [],
   "source": [
    "# gabage value\n",
    "for i in df.select_dtypes(include=\"object\").columns:\n",
    "    print(df[i].value_counts())\n",
    "    print('########'*10)"
   ]
  },
  {
   "cell_type": "code",
   "execution_count": 72,
   "id": "a223f9cc",
   "metadata": {
    "colab": {
     "base_uri": "https://localhost:8080/",
     "height": 1000
    },
    "executionInfo": {
     "elapsed": 2961,
     "status": "ok",
     "timestamp": 1730557422986,
     "user": {
      "displayName": "mostafa shehab",
      "userId": "04259138105991149129"
     },
     "user_tz": -120
    },
    "id": "a223f9cc",
    "outputId": "2c591ead-c88f-45d0-d325-db8ba805d16c"
   },
   "outputs": [
    {
     "data": {
      "image/png": "[encoded data removed]",
      "text/plain": [
       "<Figure size 640x480 with 1 Axes>"
      ]
     },
     "metadata": {},
     "output_type": "display_data"
    },
    {
     "data": {
      "image/png": "[encoded data removed]",
      "text/plain": [
       "<Figure size 640x480 with 1 Axes>"
      ]
     },
     "metadata": {},
     "output_type": "display_data"
    },
    {
     "data": {
      "image/png": "[encoded data removed]",
      "text/plain": [
       "<Figure size 640x480 with 1 Axes>"
      ]
     },
     "metadata": {},
     "output_type": "display_data"
    },
    {
     "data": {
      "image/png": "[encoded data removed]",
      "text/plain": [
       "<Figure size 640x480 with 1 Axes>"
      ]
     },
     "metadata": {},
     "output_type": "display_data"
    }
   ],
   "source": [
    "for i in df.select_dtypes(include=\"number\").columns:\n",
    "    sns.histplot(data=df,x=i)\n",
    "    plt.show()"
   ]
  },
  {
   "cell_type": "code",
   "execution_count": 73,
   "id": "a81d4afd",
   "metadata": {
    "colab": {
     "base_uri": "https://localhost:8080/",
     "height": 1000
    },
    "executionInfo": {
     "elapsed": 903,
     "status": "ok",
     "timestamp": 1730557424964,
     "user": {
      "displayName": "mostafa shehab",
      "userId": "04259138105991149129"
     },
     "user_tz": -120
    },
    "id": "a81d4afd",
    "outputId": "f94d3e6b-1204-4a74-b688-c688bfb99598"
   },
   "outputs": [
    {
     "data": {
      "image/png": "[encoded data removed]",
      "text/plain": [
       "<Figure size 640x480 with 1 Axes>"
      ]
     },
     "metadata": {},
     "output_type": "display_data"
    },
    {
     "data": {
      "text/plain": [
       "<Figure size 2000x2000 with 0 Axes>"
      ]
     },
     "metadata": {},
     "output_type": "display_data"
    },
    {
     "data": {
      "image/png": "[encoded data removed]",
      "text/plain": [
       "<Figure size 640x480 with 1 Axes>"
      ]
     },
     "metadata": {},
     "output_type": "display_data"
    },
    {
     "data": {
      "text/plain": [
       "<Figure size 2000x2000 with 0 Axes>"
      ]
     },
     "metadata": {},
     "output_type": "display_data"
    },
    {
     "data": {
      "image/png": "[encoded data removed]",
      "text/plain": [
       "<Figure size 640x480 with 1 Axes>"
      ]
     },
     "metadata": {},
     "output_type": "display_data"
    },
    {
     "data": {
      "text/plain": [
       "<Figure size 2000x2000 with 0 Axes>"
      ]
     },
     "metadata": {},
     "output_type": "display_data"
    },
    {
     "data": {
      "image/png": "[encoded data removed]",
      "text/plain": [
       "<Figure size 640x480 with 1 Axes>"
      ]
     },
     "metadata": {},
     "output_type": "display_data"
    },
    {
     "data": {
      "text/plain": [
       "<Figure size 2000x2000 with 0 Axes>"
      ]
     },
     "metadata": {},
     "output_type": "display_data"
    }
   ],
   "source": [
    "for i in df.select_dtypes(include=\"number\").columns:\n",
    "    sns.boxplot(data=df,x=i)\n",
    "    plt.figure(figsize=(20,20))\n",
    "    plt.show()"
   ]
  },
  {
   "cell_type": "code",
   "execution_count": 58,
   "id": "2d4b18cd",
   "metadata": {
    "colab": {
     "base_uri": "https://localhost:8080/"
    },
    "executionInfo": {
     "elapsed": 281,
     "status": "ok",
     "timestamp": 1730557378108,
     "user": {
      "displayName": "mostafa shehab",
      "userId": "04259138105991149129"
     },
     "user_tz": -120
    },
    "id": "2d4b18cd",
    "outputId": "250eb9e2-5609-4a44-bab3-ccf479e2c1f1"
   },
   "outputs": [
    {
     "data": {
      "text/plain": [
       "Index(['Percen', 'Mon', 'Mark', 'target'], dtype='object')"
      ]
     },
     "execution_count": 58,
     "metadata": {},
     "output_type": "execute_result"
    }
   ],
   "source": [
    "df.select_dtypes(include=\"number\").columns"
   ]
  },
  {
   "cell_type": "code",
   "execution_count": 79,
   "id": "ddaeb350",
   "metadata": {
    "colab": {
     "base_uri": "https://localhost:8080/",
     "height": 836
    },
    "executionInfo": {
     "elapsed": 411,
     "status": "ok",
     "timestamp": 1730557475353,
     "user": {
      "displayName": "mostafa shehab",
      "userId": "04259138105991149129"
     },
     "user_tz": -120
    },
    "id": "ddaeb350",
    "outputId": "e72bc056-1e6c-4e29-9bc2-b25c12a31fea"
   },
   "outputs": [
    {
     "data": {
      "image/png": "[encoded data removed]",
      "text/plain": [
       "<Figure size 1000x1000 with 2 Axes>"
      ]
     },
     "metadata": {},
     "output_type": "display_data"
    }
   ],
   "source": [
    "#correlation with heatmap\n",
    "s=df.select_dtypes(include=\"number\").corr()\n",
    "plt.figure(figsize=(10,10))\n",
    "sns.heatmap(s,annot=True)\n",
    "plt.show()"
   ]
  },
  {
   "cell_type": "code",
   "execution_count": 76,
   "id": "f3c208a4",
   "metadata": {
    "executionInfo": {
     "elapsed": 1779,
     "status": "ok",
     "timestamp": 1730557465330,
     "user": {
      "displayName": "mostafa shehab",
      "userId": "04259138105991149129"
     },
     "user_tz": -120
    },
    "id": "f3c208a4"
   },
   "outputs": [],
   "source": [
    " #missing value treatments\n",
    "from sklearn.impute import KNNImputer\n",
    "impute=KNNImputer()\n"
   ]
  },
  {
   "cell_type": "code",
   "execution_count": 77,
   "id": "d19972cf",
   "metadata": {
    "executionInfo": {
     "elapsed": 295,
     "status": "ok",
     "timestamp": 1730557467891,
     "user": {
      "displayName": "mostafa shehab",
      "userId": "04259138105991149129"
     },
     "user_tz": -120
    },
    "id": "d19972cf"
   },
   "outputs": [],
   "source": [
    "for i in df.select_dtypes(include=\"number\").columns:\n",
    "    df[i]=impute.fit_transform(df[[i]])"
   ]
  },
  {
   "cell_type": "code",
   "execution_count": 83,
   "id": "1a78c0a8",
   "metadata": {
    "colab": {
     "base_uri": "https://localhost:8080/",
     "height": 178
    },
    "executionInfo": {
     "elapsed": 426,
     "status": "ok",
     "timestamp": 1730557517160,
     "user": {
      "displayName": "mostafa shehab",
      "userId": "04259138105991149129"
     },
     "user_tz": -120
    },
    "id": "1a78c0a8",
    "outputId": "eebd99ee-25ba-45ae-dd32-d58c88713cee"
   },
   "outputs": [
    {
     "data": {
      "text/html": [
       "<div>\n",
       "<style scoped>\n",
       "    .dataframe tbody tr th:only-of-type {\n",
       "        vertical-align: middle;\n",
       "    }\n",
       "\n",
       "    .dataframe tbody tr th {\n",
       "        vertical-align: top;\n",
       "    }\n",
       "\n",
       "    .dataframe thead th {\n",
       "        text-align: right;\n",
       "    }\n",
       "</style>\n",
       "<table border=\"1\" class=\"dataframe\">\n",
       "  <thead>\n",
       "    <tr style=\"text-align: right;\">\n",
       "      <th></th>\n",
       "      <th>0</th>\n",
       "    </tr>\n",
       "  </thead>\n",
       "  <tbody>\n",
       "    <tr>\n",
       "      <th>Percen</th>\n",
       "      <td>0</td>\n",
       "    </tr>\n",
       "    <tr>\n",
       "      <th>Mon</th>\n",
       "      <td>0</td>\n",
       "    </tr>\n",
       "    <tr>\n",
       "      <th>target</th>\n",
       "      <td>0</td>\n",
       "    </tr>\n",
       "  </tbody>\n",
       "</table>\n",
       "</div><br><label><b>dtype:</b> int64</label>"
      ],
      "text/plain": [
       "Percen    0\n",
       "Mon       0\n",
       "target    0\n",
       "dtype: int64"
      ]
     },
     "execution_count": 83,
     "metadata": {},
     "output_type": "execute_result"
    }
   ],
   "source": [
    "df.isnull().sum()"
   ]
  },
  {
   "cell_type": "code",
   "execution_count": 81,
   "id": "bsAeK9i9Q5Vk",
   "metadata": {
    "executionInfo": {
     "elapsed": 433,
     "status": "ok",
     "timestamp": 1730557503949,
     "user": {
      "displayName": "mostafa shehab",
      "userId": "04259138105991149129"
     },
     "user_tz": -120
    },
    "id": "bsAeK9i9Q5Vk"
   },
   "outputs": [],
   "source": [
    "df.drop([\"Mark\"] , axis=1 , inplace=True)"
   ]
  },
  {
   "cell_type": "code",
   "execution_count": 84,
   "id": "0d8eb082",
   "metadata": {
    "executionInfo": {
     "elapsed": 381,
     "status": "ok",
     "timestamp": 1730557534650,
     "user": {
      "displayName": "mostafa shehab",
      "userId": "04259138105991149129"
     },
     "user_tz": -120
    },
    "id": "0d8eb082"
   },
   "outputs": [],
   "source": [
    "################\n",
    "\n",
    "# handel outlier for coloms [ amount oldbalanceOrg oldbalanceDes ]\n",
    "\n",
    "def handle_outliers_iqr(df, columns):\n",
    "  \"\"\"Handles outliers using the Interquartile Range (IQR) method for specified columns in a DataFrame.\n",
    "\n",
    "  Args:\n",
    "    df: The pandas DataFrame containing the data.\n",
    "    columns: A list of column names to handle outliers for.\n",
    "  \"\"\"\n",
    "\n",
    "  for col in columns:\n",
    "    Q1 = df[col].quantile(0.25)\n",
    "    Q3 = df[col].quantile(0.75)\n",
    "    IQR = Q3 - Q1\n",
    "    lower_bound = Q1 - 1.5 * IQR\n",
    "    upper_bound = Q3 + 1.5 * IQR\n",
    "\n",
    "    # Replace outliers with the nearest bound\n",
    "    df[col] = np.where(df[col] < lower_bound, lower_bound, df[col])\n",
    "    df[col] = np.where(df[col] > upper_bound, upper_bound, df[col])\n",
    "\n",
    "  return df\n",
    "\n",
    "\n",
    "# Example usage with your DataFrame\n",
    "columns_to_handle = ['Percen' , 'Mon']\n",
    "df = handle_outliers_iqr(df, columns_to_handle)"
   ]
  },
  {
   "cell_type": "code",
   "execution_count": 87,
   "id": "7aa8a224",
   "metadata": {
    "colab": {
     "base_uri": "https://localhost:8080/",
     "height": 870
    },
    "executionInfo": {
     "elapsed": 704,
     "status": "ok",
     "timestamp": 1730557622718,
     "user": {
      "displayName": "mostafa shehab",
      "userId": "04259138105991149129"
     },
     "user_tz": -120
    },
    "id": "7aa8a224",
    "outputId": "22a0cfd1-b7aa-424c-cb2c-aa0b31fe08e2"
   },
   "outputs": [
    {
     "data": {
      "image/png": "[encoded data removed]",
      "text/plain": [
       "<Figure size 640x480 with 1 Axes>"
      ]
     },
     "metadata": {},
     "output_type": "display_data"
    },
    {
     "data": {
      "text/plain": [
       "<Figure size 1000x1000 with 0 Axes>"
      ]
     },
     "metadata": {},
     "output_type": "display_data"
    },
    {
     "data": {
      "image/png": "[encoded data removed]",
      "text/plain": [
       "<Figure size 640x480 with 1 Axes>"
      ]
     },
     "metadata": {},
     "output_type": "display_data"
    },
    {
     "data": {
      "text/plain": [
       "<Figure size 1000x1000 with 0 Axes>"
      ]
     },
     "metadata": {},
     "output_type": "display_data"
    }
   ],
   "source": [
    " for i in ['Percen' , 'Mon']:\n",
    "     sns.boxplot(df[i])\n",
    "     plt.figure(figsize=(10,10))\n",
    "     plt.show()"
   ]
  },
  {
   "cell_type": "code",
   "execution_count": 94,
   "id": "8e9fc8f0",
   "metadata": {
    "colab": {
     "base_uri": "https://localhost:8080/",
     "height": 458
    },
    "executionInfo": {
     "elapsed": 375,
     "status": "ok",
     "timestamp": 1730557750615,
     "user": {
      "displayName": "mostafa shehab",
      "userId": "04259138105991149129"
     },
     "user_tz": -120
    },
    "id": "8e9fc8f0",
    "outputId": "e61fdfdc-dced-443d-b5d9-2f7b717f2e9a"
   },
   "outputs": [
    {
     "data": {
      "text/html": [
       "<div>\n",
       "<style scoped>\n",
       "    .dataframe tbody tr th:only-of-type {\n",
       "        vertical-align: middle;\n",
       "    }\n",
       "\n",
       "    .dataframe tbody tr th {\n",
       "        vertical-align: top;\n",
       "    }\n",
       "\n",
       "    .dataframe thead th {\n",
       "        text-align: right;\n",
       "    }\n",
       "</style>\n",
       "<table border=\"1\" class=\"dataframe\">\n",
       "  <thead>\n",
       "    <tr style=\"text-align: right;\">\n",
       "      <th></th>\n",
       "      <th>Mon</th>\n",
       "    </tr>\n",
       "  </thead>\n",
       "  <tbody>\n",
       "    <tr>\n",
       "      <th>0</th>\n",
       "      <td>1.532604e+13</td>\n",
       "    </tr>\n",
       "    <tr>\n",
       "      <th>1</th>\n",
       "      <td>1.076490e+13</td>\n",
       "    </tr>\n",
       "    <tr>\n",
       "      <th>2</th>\n",
       "      <td>7.494251e+12</td>\n",
       "    </tr>\n",
       "    <tr>\n",
       "      <th>3</th>\n",
       "      <td>1.083943e+13</td>\n",
       "    </tr>\n",
       "    <tr>\n",
       "      <th>4</th>\n",
       "      <td>1.436223e+13</td>\n",
       "    </tr>\n",
       "    <tr>\n",
       "      <th>...</th>\n",
       "      <td>...</td>\n",
       "    </tr>\n",
       "    <tr>\n",
       "      <th>499</th>\n",
       "      <td>1.243814e+13</td>\n",
       "    </tr>\n",
       "    <tr>\n",
       "      <th>500</th>\n",
       "      <td>8.357264e+12</td>\n",
       "    </tr>\n",
       "    <tr>\n",
       "      <th>501</th>\n",
       "      <td>1.773793e+13</td>\n",
       "    </tr>\n",
       "    <tr>\n",
       "      <th>502</th>\n",
       "      <td>8.302748e+12</td>\n",
       "    </tr>\n",
       "    <tr>\n",
       "      <th>503</th>\n",
       "      <td>1.744613e+13</td>\n",
       "    </tr>\n",
       "  </tbody>\n",
       "</table>\n",
       "<p>504 rows × 1 columns</p>\n",
       "</div><br><label><b>dtype:</b> float128</label>"
      ],
      "text/plain": [
       "0      1.532604e+13\n",
       "1      1.076490e+13\n",
       "2      7.494251e+12\n",
       "3      1.083943e+13\n",
       "4      1.436223e+13\n",
       "           ...     \n",
       "499    1.243814e+13\n",
       "500    8.357264e+12\n",
       "501    1.773793e+13\n",
       "502    8.302748e+12\n",
       "503    1.744613e+13\n",
       "Name: Mon, Length: 504, dtype: float128"
      ]
     },
     "execution_count": 94,
     "metadata": {},
     "output_type": "execute_result"
    }
   ],
   "source": [
    "df['Percen'].astype(np.float128)\n",
    "df['Mon'].astype(np.float128)"
   ]
  },
  {
   "cell_type": "code",
   "execution_count": 97,
   "id": "AUOkivxZSGsF",
   "metadata": {
    "colab": {
     "base_uri": "https://localhost:8080/",
     "height": 458
    },
    "executionInfo": {
     "elapsed": 263,
     "status": "ok",
     "timestamp": 1730557821644,
     "user": {
      "displayName": "mostafa shehab",
      "userId": "04259138105991149129"
     },
     "user_tz": -120
    },
    "id": "AUOkivxZSGsF",
    "outputId": "abe50966-0121-42dd-f8fb-797302eba5d1"
   },
   "outputs": [
    {
     "data": {
      "text/html": [
       "<div>\n",
       "<style scoped>\n",
       "    .dataframe tbody tr th:only-of-type {\n",
       "        vertical-align: middle;\n",
       "    }\n",
       "\n",
       "    .dataframe tbody tr th {\n",
       "        vertical-align: top;\n",
       "    }\n",
       "\n",
       "    .dataframe thead th {\n",
       "        text-align: right;\n",
       "    }\n",
       "</style>\n",
       "<table border=\"1\" class=\"dataframe\">\n",
       "  <thead>\n",
       "    <tr style=\"text-align: right;\">\n",
       "      <th></th>\n",
       "      <th>target</th>\n",
       "    </tr>\n",
       "  </thead>\n",
       "  <tbody>\n",
       "    <tr>\n",
       "      <th>0</th>\n",
       "      <td>1</td>\n",
       "    </tr>\n",
       "    <tr>\n",
       "      <th>1</th>\n",
       "      <td>0</td>\n",
       "    </tr>\n",
       "    <tr>\n",
       "      <th>2</th>\n",
       "      <td>1</td>\n",
       "    </tr>\n",
       "    <tr>\n",
       "      <th>3</th>\n",
       "      <td>1</td>\n",
       "    </tr>\n",
       "    <tr>\n",
       "      <th>4</th>\n",
       "      <td>1</td>\n",
       "    </tr>\n",
       "    <tr>\n",
       "      <th>...</th>\n",
       "      <td>...</td>\n",
       "    </tr>\n",
       "    <tr>\n",
       "      <th>499</th>\n",
       "      <td>1</td>\n",
       "    </tr>\n",
       "    <tr>\n",
       "      <th>500</th>\n",
       "      <td>1</td>\n",
       "    </tr>\n",
       "    <tr>\n",
       "      <th>501</th>\n",
       "      <td>1</td>\n",
       "    </tr>\n",
       "    <tr>\n",
       "      <th>502</th>\n",
       "      <td>0</td>\n",
       "    </tr>\n",
       "    <tr>\n",
       "      <th>503</th>\n",
       "      <td>1</td>\n",
       "    </tr>\n",
       "  </tbody>\n",
       "</table>\n",
       "<p>504 rows × 1 columns</p>\n",
       "</div><br><label><b>dtype:</b> int64</label>"
      ],
      "text/plain": [
       "0      1\n",
       "1      0\n",
       "2      1\n",
       "3      1\n",
       "4      1\n",
       "      ..\n",
       "499    1\n",
       "500    1\n",
       "501    1\n",
       "502    0\n",
       "503    1\n",
       "Name: target, Length: 504, dtype: int64"
      ]
     },
     "execution_count": 97,
     "metadata": {},
     "output_type": "execute_result"
    }
   ],
   "source": [
    "df[\"target\"].astype(int)"
   ]
  },
  {
   "cell_type": "code",
   "execution_count": 98,
   "id": "49e9f963",
   "metadata": {
    "colab": {
     "base_uri": "https://localhost:8080/"
    },
    "executionInfo": {
     "elapsed": 293,
     "status": "ok",
     "timestamp": 1730557824616,
     "user": {
      "displayName": "mostafa shehab",
      "userId": "04259138105991149129"
     },
     "user_tz": -120
    },
    "id": "49e9f963",
    "outputId": "46c5e63a-ca2a-4984-a860-850d47835fb7"
   },
   "outputs": [
    {
     "data": {
      "text/plain": [
       "array([1., 0.])"
      ]
     },
     "execution_count": 98,
     "metadata": {},
     "output_type": "execute_result"
    }
   ],
   "source": [
    "df[\"target\"].unique()"
   ]
  },
  {
   "cell_type": "code",
   "execution_count": 99,
   "id": "g1hwp3Me99ZU",
   "metadata": {
    "colab": {
     "base_uri": "https://localhost:8080/",
     "height": 178
    },
    "executionInfo": {
     "elapsed": 329,
     "status": "ok",
     "timestamp": 1730557832034,
     "user": {
      "displayName": "mostafa shehab",
      "userId": "04259138105991149129"
     },
     "user_tz": -120
    },
    "id": "g1hwp3Me99ZU",
    "outputId": "ee2eb428-a079-47d5-fe27-1bbf86dead05"
   },
   "outputs": [
    {
     "data": {
      "text/html": [
       "<div>\n",
       "<style scoped>\n",
       "    .dataframe tbody tr th:only-of-type {\n",
       "        vertical-align: middle;\n",
       "    }\n",
       "\n",
       "    .dataframe tbody tr th {\n",
       "        vertical-align: top;\n",
       "    }\n",
       "\n",
       "    .dataframe thead th {\n",
       "        text-align: right;\n",
       "    }\n",
       "</style>\n",
       "<table border=\"1\" class=\"dataframe\">\n",
       "  <thead>\n",
       "    <tr style=\"text-align: right;\">\n",
       "      <th></th>\n",
       "      <th>0</th>\n",
       "    </tr>\n",
       "  </thead>\n",
       "  <tbody>\n",
       "    <tr>\n",
       "      <th>Percen</th>\n",
       "      <td>0</td>\n",
       "    </tr>\n",
       "    <tr>\n",
       "      <th>Mon</th>\n",
       "      <td>0</td>\n",
       "    </tr>\n",
       "    <tr>\n",
       "      <th>target</th>\n",
       "      <td>0</td>\n",
       "    </tr>\n",
       "  </tbody>\n",
       "</table>\n",
       "</div><br><label><b>dtype:</b> int64</label>"
      ],
      "text/plain": [
       "Percen    0\n",
       "Mon       0\n",
       "target    0\n",
       "dtype: int64"
      ]
     },
     "execution_count": 99,
     "metadata": {},
     "output_type": "execute_result"
    }
   ],
   "source": [
    "df.isnull().sum()"
   ]
  },
  {
   "cell_type": "markdown",
   "id": "pf7M8BcKl2a5",
   "metadata": {
    "id": "pf7M8BcKl2a5"
   },
   "source": [
    "</ul>"
   ]
  },
  {
   "cell_type": "markdown",
   "id": "dRk-NITal8tI",
   "metadata": {
    "id": "dRk-NITal8tI"
   },
   "source": [
    "# <u> Machine Learning By Mostafa Sobhy </ul>"
   ]
  },
  {
   "cell_type": "markdown",
   "id": "5yJw_5B_pHfz",
   "metadata": {
    "id": "5yJw_5B_pHfz"
   },
   "source": [
    "* ## <u>Import important library</u>"
   ]
  },
  {
   "cell_type": "code",
   "execution_count": 100,
   "id": "y5OtEMpfrAm5",
   "metadata": {
    "executionInfo": {
     "elapsed": 274,
     "status": "ok",
     "timestamp": 1730557838045,
     "user": {
      "displayName": "mostafa shehab",
      "userId": "04259138105991149129"
     },
     "user_tz": -120
    },
    "id": "y5OtEMpfrAm5"
   },
   "outputs": [],
   "source": [
    "import numpy as np\n",
    "import pandas as pd\n",
    "import matplotlib.pyplot as plt\n",
    "import seaborn as sns"
   ]
  },
  {
   "cell_type": "markdown",
   "id": "fPh9KBEFrFNw",
   "metadata": {
    "id": "fPh9KBEFrFNw"
   },
   "source": [
    "* ## <u>Applay minMax scaler</u>"
   ]
  },
  {
   "cell_type": "code",
   "execution_count": 102,
   "id": "XhMnOUMtrX_M",
   "metadata": {
    "executionInfo": {
     "elapsed": 389,
     "status": "ok",
     "timestamp": 1730557939574,
     "user": {
      "displayName": "mostafa shehab",
      "userId": "04259138105991149129"
     },
     "user_tz": -120
    },
    "id": "XhMnOUMtrX_M"
   },
   "outputs": [],
   "source": [
    "#applay minMax scaler\n",
    "\n",
    "from sklearn.preprocessing import MinMaxScaler\n",
    "\n",
    "# Assuming 'df' is your DataFrame and you want to scale numerical features\n",
    "numerical_features = ['Percen' , 'Mon']\n",
    "\n",
    "# Create a MinMaxScaler object\n",
    "scaler = MinMaxScaler()\n",
    "\n",
    "# Fit and transform the selected numerical features\n",
    "df[numerical_features] = scaler.fit_transform(df[numerical_features])\n",
    "\n",
    "# Now your specified columns are scaled between 0 and 1"
   ]
  },
  {
   "cell_type": "markdown",
   "id": "Pu_Zf8vDpHRN",
   "metadata": {
    "id": "Pu_Zf8vDpHRN"
   },
   "source": [
    "* ## <u>Oversampling using SMOTE</u>"
   ]
  },
  {
   "cell_type": "code",
   "execution_count": 139,
   "id": "dOKzPIqoTv-C",
   "metadata": {
    "executionInfo": {
     "elapsed": 380,
     "status": "ok",
     "timestamp": 1730558255256,
     "user": {
      "displayName": "mostafa shehab",
      "userId": "04259138105991149129"
     },
     "user_tz": -120
    },
    "id": "dOKzPIqoTv-C"
   },
   "outputs": [],
   "source": [
    "df.to_csv(\"data.csv\" , index=False)"
   ]
  },
  {
   "cell_type": "code",
   "execution_count": 104,
   "id": "A2S84y5wrbvY",
   "metadata": {
    "executionInfo": {
     "elapsed": 314,
     "status": "ok",
     "timestamp": 1730557964636,
     "user": {
      "displayName": "mostafa shehab",
      "userId": "04259138105991149129"
     },
     "user_tz": -120
    },
    "id": "A2S84y5wrbvY"
   },
   "outputs": [],
   "source": [
    "x = df.drop([\"target\"] , axis=1)\n",
    "y = df[\"target\"]"
   ]
  },
  {
   "cell_type": "code",
   "execution_count": 143,
   "id": "xWXdMyvvrduW",
   "metadata": {
    "colab": {
     "base_uri": "https://localhost:8080/",
     "height": 410
    },
    "executionInfo": {
     "elapsed": 410,
     "status": "ok",
     "timestamp": 1730558297863,
     "user": {
      "displayName": "mostafa shehab",
      "userId": "04259138105991149129"
     },
     "user_tz": -120
    },
    "id": "xWXdMyvvrduW",
    "outputId": "cc031a9c-a8b4-4ed4-8d42-cd6d5553449c"
   },
   "outputs": [
    {
     "data": {
      "image/png": "[encoded data removed]",
      "text/plain": [
       "<Figure size 600x400 with 1 Axes>"
      ]
     },
     "metadata": {},
     "output_type": "display_data"
    }
   ],
   "source": [
    "# Visualize the class distribution\n",
    "\n",
    "plt.figure(figsize=(6, 4))\n",
    "sns.countplot(x='target', data=df)\n",
    "plt.title('target')\n",
    "plt.xlabel('target')\n",
    "plt.ylabel('Count')\n",
    "plt.show()"
   ]
  },
  {
   "cell_type": "code",
   "execution_count": 144,
   "id": "E1mx45ogrfp3",
   "metadata": {
    "executionInfo": {
     "elapsed": 271,
     "status": "ok",
     "timestamp": 1730558301196,
     "user": {
      "displayName": "mostafa shehab",
      "userId": "04259138105991149129"
     },
     "user_tz": -120
    },
    "id": "E1mx45ogrfp3"
   },
   "outputs": [],
   "source": [
    "from imblearn.over_sampling import SMOTE\n",
    "\n",
    "# Apply SMOTE\n",
    "\n",
    "smote = SMOTE(random_state=42)\n",
    "x_resampled, y_resampled = smote.fit_resample(x, y)"
   ]
  },
  {
   "cell_type": "code",
   "execution_count": 145,
   "id": "amzUSK_8rhNC",
   "metadata": {
    "executionInfo": {
     "elapsed": 293,
     "status": "ok",
     "timestamp": 1730558303030,
     "user": {
      "displayName": "mostafa shehab",
      "userId": "04259138105991149129"
     },
     "user_tz": -120
    },
    "id": "amzUSK_8rhNC"
   },
   "outputs": [],
   "source": [
    "# Resample Data\n",
    "\n",
    "# Create a new DataFrame with resampled data\n",
    "df_resampled = pd.concat([pd.DataFrame(x_resampled), pd.DataFrame(y_resampled, columns=['target'])], axis=1)\n",
    "\n",
    "# Check the class distribution after oversampling\n",
    "isFraud_resampled = df_resampled['target'].value_counts()"
   ]
  },
  {
   "cell_type": "code",
   "execution_count": 146,
   "id": "aMsER29nrifp",
   "metadata": {
    "colab": {
     "base_uri": "https://localhost:8080/",
     "height": 410
    },
    "executionInfo": {
     "elapsed": 338,
     "status": "ok",
     "timestamp": 1730558304432,
     "user": {
      "displayName": "mostafa shehab",
      "userId": "04259138105991149129"
     },
     "user_tz": -120
    },
    "id": "aMsER29nrifp",
    "outputId": "4035eb40-dc55-411b-ed6c-ff877c855ede"
   },
   "outputs": [
    {
     "data": {
      "image/png": "[encoded data removed]",
      "text/plain": [
       "<Figure size 600x400 with 1 Axes>"
      ]
     },
     "metadata": {},
     "output_type": "display_data"
    }
   ],
   "source": [
    "# Visualize the class distribution after oversampling\n",
    "\n",
    "plt.figure(figsize=(6, 4))\n",
    "sns.countplot(x='target', data=df_resampled)\n",
    "plt.title('target After Oversampling')\n",
    "plt.xlabel('target')\n",
    "plt.ylabel('Count')\n",
    "plt.show()"
   ]
  },
  {
   "cell_type": "markdown",
   "id": "9SzejyAupHDt",
   "metadata": {
    "id": "9SzejyAupHDt"
   },
   "source": [
    "* ## <u>Spilting Data</u>"
   ]
  },
  {
   "cell_type": "code",
   "execution_count": 113,
   "id": "LkufSVr2rlQQ",
   "metadata": {
    "executionInfo": {
     "elapsed": 309,
     "status": "ok",
     "timestamp": 1730558010207,
     "user": {
      "displayName": "mostafa shehab",
      "userId": "04259138105991149129"
     },
     "user_tz": -120
    },
    "id": "LkufSVr2rlQQ"
   },
   "outputs": [],
   "source": [
    "# Separate features and target variable\n",
    "x = df_resampled.drop('target', axis=1)\n",
    "y = df_resampled['target']"
   ]
  },
  {
   "cell_type": "code",
   "execution_count": 148,
   "id": "hXo5JGZbUEYL",
   "metadata": {
    "executionInfo": {
     "elapsed": 365,
     "status": "ok",
     "timestamp": 1730558337380,
     "user": {
      "displayName": "mostafa shehab",
      "userId": "04259138105991149129"
     },
     "user_tz": -120
    },
    "id": "hXo5JGZbUEYL"
   },
   "outputs": [],
   "source": [
    "df_resampled.to_csv(\"data_resampled.csv\" , index=False)"
   ]
  },
  {
   "cell_type": "markdown",
   "id": "oKTe44sgpG2E",
   "metadata": {
    "id": "oKTe44sgpG2E"
   },
   "source": [
    "* ## <u>Feature Engineering</u>"
   ]
  },
  {
   "cell_type": "code",
   "execution_count": 114,
   "id": "zNSseXAcsJag",
   "metadata": {
    "executionInfo": {
     "elapsed": 1318,
     "status": "ok",
     "timestamp": 1730558012970,
     "user": {
      "displayName": "mostafa shehab",
      "userId": "04259138105991149129"
     },
     "user_tz": -120
    },
    "id": "zNSseXAcsJag"
   },
   "outputs": [],
   "source": [
    "from sklearn.ensemble import RandomForestClassifier\n",
    "\n",
    "rf_model = RandomForestClassifier(random_state=42)\n",
    "rf_model.fit(x, y)\n",
    "feature_importances = rf_model.feature_importances_"
   ]
  },
  {
   "cell_type": "code",
   "execution_count": 115,
   "id": "7-4j65d0sNJI",
   "metadata": {
    "colab": {
     "base_uri": "https://localhost:8080/"
    },
    "executionInfo": {
     "elapsed": 300,
     "status": "ok",
     "timestamp": 1730558014862,
     "user": {
      "displayName": "mostafa shehab",
      "userId": "04259138105991149129"
     },
     "user_tz": -120
    },
    "id": "7-4j65d0sNJI",
    "outputId": "89709b89-dd7c-40bc-96d3-7210e645861a"
   },
   "outputs": [
    {
     "name": "stdout",
     "output_type": "stream",
     "text": [
      "  Feature  Importance\n",
      "1     Mon    0.522594\n",
      "0  Percen    0.477406\n"
     ]
    }
   ],
   "source": [
    "# Create a DataFrame to display feature importances\n",
    "\n",
    "feature_importance_df = pd.DataFrame({'Feature': x.columns, 'Importance': feature_importances})\n",
    "feature_importance_df = feature_importance_df.sort_values(by='Importance', ascending=False)\n",
    "\n",
    "# Print the feature importance DataFrame\n",
    "\n",
    "print(feature_importance_df)"
   ]
  },
  {
   "cell_type": "code",
   "execution_count": 116,
   "id": "CXeVF7CWs5Co",
   "metadata": {
    "colab": {
     "base_uri": "https://localhost:8080/",
     "height": 564
    },
    "executionInfo": {
     "elapsed": 465,
     "status": "ok",
     "timestamp": 1730558019644,
     "user": {
      "displayName": "mostafa shehab",
      "userId": "04259138105991149129"
     },
     "user_tz": -120
    },
    "id": "CXeVF7CWs5Co",
    "outputId": "853d19db-3820-48fc-894f-6204da04cd4e"
   },
   "outputs": [
    {
     "data": {
      "image/png": "[encoded data removed]",
      "text/plain": [
       "<Figure size 1000x600 with 1 Axes>"
      ]
     },
     "metadata": {},
     "output_type": "display_data"
    }
   ],
   "source": [
    "# Plot feature importances\n",
    "\n",
    "plt.figure(figsize=(10, 6))\n",
    "sns.barplot(x='Importance', y='Feature', data=feature_importance_df)\n",
    "plt.title('Feature Importance')\n",
    "plt.xlabel('Importance')\n",
    "plt.ylabel('Feature')\n",
    "plt.show()"
   ]
  },
  {
   "cell_type": "markdown",
   "id": "ht95xcmApGnk",
   "metadata": {
    "id": "ht95xcmApGnk"
   },
   "source": [
    "* ## <u>train_test_split</u>"
   ]
  },
  {
   "cell_type": "code",
   "execution_count": 117,
   "id": "C43ZcIsCs7Qk",
   "metadata": {
    "executionInfo": {
     "elapsed": 301,
     "status": "ok",
     "timestamp": 1730558022968,
     "user": {
      "displayName": "mostafa shehab",
      "userId": "04259138105991149129"
     },
     "user_tz": -120
    },
    "id": "C43ZcIsCs7Qk"
   },
   "outputs": [],
   "source": [
    "from sklearn.model_selection import train_test_split\n",
    "\n",
    "x_train, x_test, y_train, y_test = train_test_split(x, y, test_size=0.2, random_state=42)"
   ]
  },
  {
   "cell_type": "markdown",
   "id": "Ozo8v1xApGZz",
   "metadata": {
    "id": "Ozo8v1xApGZz"
   },
   "source": [
    "* ## <u>Storing Model Data for visualization and Compare  </u>"
   ]
  },
  {
   "cell_type": "code",
   "execution_count": 118,
   "id": "PXaLyeDDtFgs",
   "metadata": {
    "executionInfo": {
     "elapsed": 3,
     "status": "ok",
     "timestamp": 1730558024150,
     "user": {
      "displayName": "mostafa shehab",
      "userId": "04259138105991149129"
     },
     "user_tz": -120
    },
    "id": "PXaLyeDDtFgs"
   },
   "outputs": [],
   "source": [
    "Model_Name_all = [\"LogisticRegression\"  , \"DecisionTreeClassifier\" , \"RandomForestClassifier\" , \"GradientBoostingClassifier\" , \"KNeighborsClassifier\"]\n",
    "accuracy_all = []\n",
    "recall_all = []\n",
    "f1_all = []\n",
    "precision_all = []"
   ]
  },
  {
   "cell_type": "markdown",
   "id": "TxcAftQbpGHw",
   "metadata": {
    "id": "TxcAftQbpGHw"
   },
   "source": [
    "* ## <u>Import Models</u>"
   ]
  },
  {
   "cell_type": "code",
   "execution_count": 119,
   "id": "MJlDMheFtIaM",
   "metadata": {
    "executionInfo": {
     "elapsed": 2,
     "status": "ok",
     "timestamp": 1730558025580,
     "user": {
      "displayName": "mostafa shehab",
      "userId": "04259138105991149129"
     },
     "user_tz": -120
    },
    "id": "MJlDMheFtIaM"
   },
   "outputs": [],
   "source": [
    "from sklearn.linear_model import LogisticRegression\n",
    "from sklearn.tree import DecisionTreeClassifier\n",
    "from sklearn.ensemble import RandomForestClassifier\n",
    "from sklearn.ensemble import GradientBoostingClassifier\n",
    "from sklearn.neighbors import KNeighborsClassifier\n",
    "\n",
    "from sklearn.metrics import accuracy_score , recall_score , f1_score , precision_score ,confusion_matrix , classification_report"
   ]
  },
  {
   "cell_type": "markdown",
   "id": "LRjOruErpF4F",
   "metadata": {
    "id": "LRjOruErpF4F"
   },
   "source": [
    "* ## <u>LogisticRegression Model</u>"
   ]
  },
  {
   "cell_type": "code",
   "execution_count": 120,
   "id": "10B4XJGutMDc",
   "metadata": {
    "colab": {
     "base_uri": "https://localhost:8080/"
    },
    "executionInfo": {
     "elapsed": 4,
     "status": "ok",
     "timestamp": 1730558027097,
     "user": {
      "displayName": "mostafa shehab",
      "userId": "04259138105991149129"
     },
     "user_tz": -120
    },
    "id": "10B4XJGutMDc",
    "outputId": "6bc421e3-c0c5-4557-8696-8b4044e4c145"
   },
   "outputs": [
    {
     "data": {
      "text/plain": [
       "array([[0.48137175, 0.51862825],\n",
       "       [0.59356918, 0.40643082],\n",
       "       [0.49338114, 0.50661886],\n",
       "       [0.47890416, 0.52109584],\n",
       "       [0.51288015, 0.48711985],\n",
       "       [0.4763875 , 0.5236125 ],\n",
       "       [0.4905869 , 0.5094131 ],\n",
       "       [0.4840912 , 0.5159088 ],\n",
       "       [0.46212527, 0.53787473],\n",
       "       [0.55728668, 0.44271332],\n",
       "       [0.54191968, 0.45808032],\n",
       "       [0.47020267, 0.52979733],\n",
       "       [0.54491072, 0.45508928],\n",
       "       [0.55599766, 0.44400234],\n",
       "       [0.51794983, 0.48205017],\n",
       "       [0.4445883 , 0.5554117 ],\n",
       "       [0.56034278, 0.43965722],\n",
       "       [0.51373697, 0.48626303],\n",
       "       [0.51709106, 0.48290894],\n",
       "       [0.48269241, 0.51730759],\n",
       "       [0.44210929, 0.55789071],\n",
       "       [0.5712258 , 0.4287742 ],\n",
       "       [0.53631449, 0.46368551],\n",
       "       [0.44973157, 0.55026843],\n",
       "       [0.49671891, 0.50328109],\n",
       "       [0.55569093, 0.44430907],\n",
       "       [0.48659088, 0.51340912],\n",
       "       [0.59287526, 0.40712474],\n",
       "       [0.46371582, 0.53628418],\n",
       "       [0.51113221, 0.48886779],\n",
       "       [0.56637682, 0.43362318],\n",
       "       [0.45418257, 0.54581743],\n",
       "       [0.57646265, 0.42353735],\n",
       "       [0.45079236, 0.54920764],\n",
       "       [0.52495645, 0.47504355],\n",
       "       [0.56495511, 0.43504489],\n",
       "       [0.5631541 , 0.4368459 ],\n",
       "       [0.50881411, 0.49118589],\n",
       "       [0.52688602, 0.47311398],\n",
       "       [0.46299916, 0.53700084],\n",
       "       [0.5345574 , 0.4654426 ],\n",
       "       [0.44541523, 0.55458477],\n",
       "       [0.50379888, 0.49620112],\n",
       "       [0.51304268, 0.48695732],\n",
       "       [0.45927657, 0.54072343],\n",
       "       [0.44130327, 0.55869673],\n",
       "       [0.45136326, 0.54863674],\n",
       "       [0.51391587, 0.48608413],\n",
       "       [0.5593063 , 0.4406937 ],\n",
       "       [0.52668028, 0.47331972],\n",
       "       [0.46750052, 0.53249948],\n",
       "       [0.49317199, 0.50682801],\n",
       "       [0.55614818, 0.44385182],\n",
       "       [0.4515649 , 0.5484351 ],\n",
       "       [0.56263931, 0.43736069],\n",
       "       [0.49538002, 0.50461998],\n",
       "       [0.50590677, 0.49409323],\n",
       "       [0.55829725, 0.44170275],\n",
       "       [0.53775316, 0.46224684],\n",
       "       [0.45193158, 0.54806842],\n",
       "       [0.57075049, 0.42924951],\n",
       "       [0.49351489, 0.50648511],\n",
       "       [0.53512523, 0.46487477],\n",
       "       [0.53641938, 0.46358062],\n",
       "       [0.57965307, 0.42034693],\n",
       "       [0.56437039, 0.43562961],\n",
       "       [0.56494473, 0.43505527],\n",
       "       [0.53699264, 0.46300736],\n",
       "       [0.45635832, 0.54364168],\n",
       "       [0.57177323, 0.42822677],\n",
       "       [0.48329418, 0.51670582],\n",
       "       [0.57225376, 0.42774624],\n",
       "       [0.53557383, 0.46442617],\n",
       "       [0.45143076, 0.54856924],\n",
       "       [0.47116286, 0.52883714],\n",
       "       [0.50548445, 0.49451555],\n",
       "       [0.46713496, 0.53286504],\n",
       "       [0.43490031, 0.56509969],\n",
       "       [0.53635768, 0.46364232],\n",
       "       [0.51749534, 0.48250466],\n",
       "       [0.61820815, 0.38179185],\n",
       "       [0.46551458, 0.53448542],\n",
       "       [0.44761321, 0.55238679],\n",
       "       [0.49384239, 0.50615761],\n",
       "       [0.53952024, 0.46047976],\n",
       "       [0.52617864, 0.47382136],\n",
       "       [0.45533919, 0.54466081],\n",
       "       [0.45667783, 0.54332217],\n",
       "       [0.55460378, 0.44539622],\n",
       "       [0.54779383, 0.45220617],\n",
       "       [0.61464851, 0.38535149],\n",
       "       [0.56296304, 0.43703696],\n",
       "       [0.5082042 , 0.4917958 ],\n",
       "       [0.55087702, 0.44912298],\n",
       "       [0.45667922, 0.54332078],\n",
       "       [0.46308423, 0.53691577],\n",
       "       [0.53453229, 0.46546771],\n",
       "       [0.51637415, 0.48362585],\n",
       "       [0.53932974, 0.46067026],\n",
       "       [0.49410753, 0.50589247],\n",
       "       [0.53383232, 0.46616768],\n",
       "       [0.54214104, 0.45785896],\n",
       "       [0.46056535, 0.53943465],\n",
       "       [0.59759715, 0.40240285],\n",
       "       [0.56478531, 0.43521469],\n",
       "       [0.4929796 , 0.5070204 ],\n",
       "       [0.48436557, 0.51563443],\n",
       "       [0.54079843, 0.45920157],\n",
       "       [0.54021394, 0.45978606],\n",
       "       [0.51023485, 0.48976515],\n",
       "       [0.48732624, 0.51267376],\n",
       "       [0.48303242, 0.51696758],\n",
       "       [0.46904759, 0.53095241],\n",
       "       [0.48230016, 0.51769984],\n",
       "       [0.48984824, 0.51015176],\n",
       "       [0.44341764, 0.55658236],\n",
       "       [0.53981802, 0.46018198],\n",
       "       [0.48069757, 0.51930243],\n",
       "       [0.52606231, 0.47393769],\n",
       "       [0.49164586, 0.50835414],\n",
       "       [0.48274521, 0.51725479],\n",
       "       [0.55264732, 0.44735268],\n",
       "       [0.53938362, 0.46061638],\n",
       "       [0.45715213, 0.54284787],\n",
       "       [0.49046142, 0.50953858],\n",
       "       [0.4787831 , 0.5212169 ],\n",
       "       [0.5484632 , 0.4515368 ],\n",
       "       [0.46558775, 0.53441225],\n",
       "       [0.54691548, 0.45308452],\n",
       "       [0.50511288, 0.49488712],\n",
       "       [0.52297721, 0.47702279],\n",
       "       [0.47351768, 0.52648232],\n",
       "       [0.57706073, 0.42293927],\n",
       "       [0.50797566, 0.49202434],\n",
       "       [0.52987324, 0.47012676],\n",
       "       [0.48789688, 0.51210312],\n",
       "       [0.50191251, 0.49808749],\n",
       "       [0.46143927, 0.53856073],\n",
       "       [0.46402006, 0.53597994],\n",
       "       [0.49362669, 0.50637331],\n",
       "       [0.46718544, 0.53281456],\n",
       "       [0.55679318, 0.44320682],\n",
       "       [0.5098585 , 0.4901415 ],\n",
       "       [0.4573209 , 0.5426791 ],\n",
       "       [0.49704884, 0.50295116],\n",
       "       [0.50770641, 0.49229359],\n",
       "       [0.48158535, 0.51841465],\n",
       "       [0.51954079, 0.48045921],\n",
       "       [0.51623593, 0.48376407],\n",
       "       [0.46468486, 0.53531514]])"
      ]
     },
     "execution_count": 120,
     "metadata": {},
     "output_type": "execute_result"
    }
   ],
   "source": [
    "# Train Model\n",
    "model_lg = LogisticRegression()\n",
    "model_lg.fit(x_train, y_train)\n",
    "model_lg.score(x_train, y_train)\n",
    "y_pred_lg = model_lg.predict(x_test)\n",
    "model_lg.predict_proba(x_test)"
   ]
  },
  {
   "cell_type": "code",
   "execution_count": 121,
   "id": "sm4AOiRttRdQ",
   "metadata": {
    "colab": {
     "base_uri": "https://localhost:8080/",
     "height": 554
    },
    "executionInfo": {
     "elapsed": 662,
     "status": "ok",
     "timestamp": 1730558031097,
     "user": {
      "displayName": "mostafa shehab",
      "userId": "04259138105991149129"
     },
     "user_tz": -120
    },
    "id": "sm4AOiRttRdQ",
    "outputId": "fab9e517-360c-420a-86d0-6be0cc2e34be"
   },
   "outputs": [
    {
     "name": "stdout",
     "output_type": "stream",
     "text": [
      "Accuracy Score Is: 0.6066666666666667\n",
      "Recall Score Is: 0.5584415584415584\n",
      "F1 Score Is: 0.593103448275862\n",
      "Precision Score Is: 0.6323529411764706\n",
      "LogisticRegression Report Is:\n",
      "               precision    recall  f1-score   support\n",
      "\n",
      "         0.0       0.59      0.66      0.62        73\n",
      "         1.0       0.63      0.56      0.59        77\n",
      "\n",
      "    accuracy                           0.61       150\n",
      "   macro avg       0.61      0.61      0.61       150\n",
      "weighted avg       0.61      0.61      0.61       150\n",
      "\n"
     ]
    },
    {
     "data": {
      "image/png": "[encoded data removed]",
      "text/plain": [
       "<Figure size 2000x500 with 2 Axes>"
      ]
     },
     "metadata": {},
     "output_type": "display_data"
    }
   ],
   "source": [
    "# Evaluate the model\n",
    "accuracy_lg = accuracy_score(y_test, y_pred_lg)\n",
    "precision_lg = precision_score(y_test, y_pred_lg)\n",
    "recall_lg = recall_score(y_test, y_pred_lg)\n",
    "f1_lg = f1_score(y_test, y_pred_lg)\n",
    "confusion_lg = confusion_matrix(y_test, y_pred_lg)\n",
    "report_lg = classification_report(y_test, y_pred_lg)\n",
    "\n",
    "plt.figure(figsize=(20,5))\n",
    "sns.heatmap(confusion_matrix(y_pred_lg , y_test) , annot=True , cmap=\"YlGnBu\")\n",
    "print(\"Accuracy Score Is:\" , accuracy_lg)\n",
    "print(\"Recall Score Is:\" , recall_lg)\n",
    "print(\"F1 Score Is:\", f1_lg)\n",
    "print(\"Precision Score Is:\" , precision_lg)\n",
    "print(\"LogisticRegression Report Is:\\n\" , report_lg)\n",
    "plt.show()"
   ]
  },
  {
   "cell_type": "code",
   "execution_count": 122,
   "id": "3sxBKGIRtTXP",
   "metadata": {
    "executionInfo": {
     "elapsed": 330,
     "status": "ok",
     "timestamp": 1730558037565,
     "user": {
      "displayName": "mostafa shehab",
      "userId": "04259138105991149129"
     },
     "user_tz": -120
    },
    "id": "3sxBKGIRtTXP"
   },
   "outputs": [],
   "source": [
    "# storing model data\n",
    "accuracy_all.append(accuracy_lg)\n",
    "recall_all.append(recall_lg)\n",
    "f1_all.append(f1_lg)\n",
    "precision_all.append(precision_lg)"
   ]
  },
  {
   "cell_type": "code",
   "execution_count": 123,
   "id": "YHU858iItXAV",
   "metadata": {
    "colab": {
     "base_uri": "https://localhost:8080/"
    },
    "executionInfo": {
     "elapsed": 2530,
     "status": "ok",
     "timestamp": 1730558041021,
     "user": {
      "displayName": "mostafa shehab",
      "userId": "04259138105991149129"
     },
     "user_tz": -120
    },
    "id": "YHU858iItXAV",
    "outputId": "914978b4-daa0-42ca-c354-ee94f39aa34c"
   },
   "outputs": [
    {
     "name": "stdout",
     "output_type": "stream",
     "text": [
      "Optimization terminated successfully.\n",
      "         Current function value: 0.688795\n",
      "         Iterations 4\n",
      "                           Logit Regression Results                           \n",
      "==============================================================================\n",
      "Dep. Variable:                 target   No. Observations:                  598\n",
      "Model:                          Logit   Df Residuals:                      595\n",
      "Method:                           MLE   Df Model:                            2\n",
      "Date:                Sat, 02 Nov 2024   Pseudo R-squ.:                0.006247\n",
      "Time:                        14:34:00   Log-Likelihood:                -411.90\n",
      "converged:                       True   LL-Null:                       -414.49\n",
      "Covariance Type:            nonrobust   LLR p-value:                   0.07508\n",
      "==============================================================================\n",
      "                 coef    std err          z      P>|z|      [0.025      0.975]\n",
      "------------------------------------------------------------------------------\n",
      "const          0.2964      0.163      1.815      0.070      -0.024       0.617\n",
      "Percen        -0.4259      0.252     -1.690      0.091      -0.920       0.068\n",
      "Mon           -0.5139      0.319     -1.609      0.108      -1.140       0.112\n",
      "==============================================================================\n"
     ]
    }
   ],
   "source": [
    "import statsmodels.api as sm\n",
    "\n",
    "x_train_with_constant = sm.add_constant(x_train)\n",
    "\n",
    "# Fit the logistic regression model\n",
    "logit_model = sm.Logit(y_train, x_train_with_constant).fit()\n",
    "\n",
    "# Print the model summary\n",
    "print(logit_model.summary())"
   ]
  },
  {
   "cell_type": "markdown",
   "id": "H2pHtmgQpFpr",
   "metadata": {
    "id": "H2pHtmgQpFpr"
   },
   "source": [
    "* ## <u>DecisionTreeClassifier Model</u>"
   ]
  },
  {
   "cell_type": "code",
   "execution_count": 124,
   "id": "CZ7AoU5xtZ9u",
   "metadata": {
    "colab": {
     "base_uri": "https://localhost:8080/"
    },
    "executionInfo": {
     "elapsed": 271,
     "status": "ok",
     "timestamp": 1730558043650,
     "user": {
      "displayName": "mostafa shehab",
      "userId": "04259138105991149129"
     },
     "user_tz": -120
    },
    "id": "CZ7AoU5xtZ9u",
    "outputId": "6ed089e8-39d9-4edf-8b74-8e5f191d19e9"
   },
   "outputs": [
    {
     "data": {
      "text/plain": [
       "array([[0., 1.],\n",
       "       [0., 1.],\n",
       "       [1., 0.],\n",
       "       [0., 1.],\n",
       "       [0., 1.],\n",
       "       [0., 1.],\n",
       "       [0., 1.],\n",
       "       [1., 0.],\n",
       "       [1., 0.],\n",
       "       [0., 1.],\n",
       "       [0., 1.],\n",
       "       [1., 0.],\n",
       "       [1., 0.],\n",
       "       [1., 0.],\n",
       "       [1., 0.],\n",
       "       [0., 1.],\n",
       "       [0., 1.],\n",
       "       [0., 1.],\n",
       "       [0., 1.],\n",
       "       [0., 1.],\n",
       "       [0., 1.],\n",
       "       [1., 0.],\n",
       "       [0., 1.],\n",
       "       [1., 0.],\n",
       "       [1., 0.],\n",
       "       [0., 1.],\n",
       "       [0., 1.],\n",
       "       [0., 1.],\n",
       "       [0., 1.],\n",
       "       [0., 1.],\n",
       "       [0., 1.],\n",
       "       [0., 1.],\n",
       "       [1., 0.],\n",
       "       [1., 0.],\n",
       "       [1., 0.],\n",
       "       [0., 1.],\n",
       "       [0., 1.],\n",
       "       [1., 0.],\n",
       "       [0., 1.],\n",
       "       [0., 1.],\n",
       "       [1., 0.],\n",
       "       [0., 1.],\n",
       "       [0., 1.],\n",
       "       [1., 0.],\n",
       "       [1., 0.],\n",
       "       [1., 0.],\n",
       "       [0., 1.],\n",
       "       [1., 0.],\n",
       "       [0., 1.],\n",
       "       [1., 0.],\n",
       "       [0., 1.],\n",
       "       [1., 0.],\n",
       "       [0., 1.],\n",
       "       [0., 1.],\n",
       "       [1., 0.],\n",
       "       [0., 1.],\n",
       "       [0., 1.],\n",
       "       [0., 1.],\n",
       "       [1., 0.],\n",
       "       [0., 1.],\n",
       "       [1., 0.],\n",
       "       [0., 1.],\n",
       "       [0., 1.],\n",
       "       [0., 1.],\n",
       "       [1., 0.],\n",
       "       [0., 1.],\n",
       "       [0., 1.],\n",
       "       [1., 0.],\n",
       "       [0., 1.],\n",
       "       [0., 1.],\n",
       "       [1., 0.],\n",
       "       [1., 0.],\n",
       "       [0., 1.],\n",
       "       [0., 1.],\n",
       "       [0., 1.],\n",
       "       [1., 0.],\n",
       "       [0., 1.],\n",
       "       [1., 0.],\n",
       "       [1., 0.],\n",
       "       [1., 0.],\n",
       "       [1., 0.],\n",
       "       [0., 1.],\n",
       "       [0., 1.],\n",
       "       [0., 1.],\n",
       "       [1., 0.],\n",
       "       [0., 1.],\n",
       "       [0., 1.],\n",
       "       [0., 1.],\n",
       "       [1., 0.],\n",
       "       [0., 1.],\n",
       "       [0., 1.],\n",
       "       [0., 1.],\n",
       "       [0., 1.],\n",
       "       [0., 1.],\n",
       "       [0., 1.],\n",
       "       [0., 1.],\n",
       "       [0., 1.],\n",
       "       [1., 0.],\n",
       "       [1., 0.],\n",
       "       [0., 1.],\n",
       "       [0., 1.],\n",
       "       [1., 0.],\n",
       "       [1., 0.],\n",
       "       [1., 0.],\n",
       "       [1., 0.],\n",
       "       [0., 1.],\n",
       "       [0., 1.],\n",
       "       [0., 1.],\n",
       "       [0., 1.],\n",
       "       [0., 1.],\n",
       "       [1., 0.],\n",
       "       [1., 0.],\n",
       "       [0., 1.],\n",
       "       [1., 0.],\n",
       "       [1., 0.],\n",
       "       [0., 1.],\n",
       "       [1., 0.],\n",
       "       [0., 1.],\n",
       "       [0., 1.],\n",
       "       [1., 0.],\n",
       "       [0., 1.],\n",
       "       [1., 0.],\n",
       "       [0., 1.],\n",
       "       [1., 0.],\n",
       "       [1., 0.],\n",
       "       [0., 1.],\n",
       "       [1., 0.],\n",
       "       [0., 1.],\n",
       "       [1., 0.],\n",
       "       [1., 0.],\n",
       "       [1., 0.],\n",
       "       [0., 1.],\n",
       "       [1., 0.],\n",
       "       [1., 0.],\n",
       "       [1., 0.],\n",
       "       [1., 0.],\n",
       "       [0., 1.],\n",
       "       [1., 0.],\n",
       "       [0., 1.],\n",
       "       [0., 1.],\n",
       "       [1., 0.],\n",
       "       [0., 1.],\n",
       "       [0., 1.],\n",
       "       [0., 1.],\n",
       "       [0., 1.],\n",
       "       [1., 0.],\n",
       "       [1., 0.],\n",
       "       [1., 0.],\n",
       "       [1., 0.],\n",
       "       [1., 0.]])"
      ]
     },
     "execution_count": 124,
     "metadata": {},
     "output_type": "execute_result"
    }
   ],
   "source": [
    "# Train Model\n",
    "model_dt = DecisionTreeClassifier(random_state=42)\n",
    "model_dt.fit(x_train, y_train)\n",
    "model_dt.score(x_train, y_train)\n",
    "y_pred_dt = model_dt.predict(x_test)\n",
    "model_dt.predict_proba(x_test)"
   ]
  },
  {
   "cell_type": "code",
   "execution_count": 125,
   "id": "UOcbFvK3tcYq",
   "metadata": {
    "colab": {
     "base_uri": "https://localhost:8080/",
     "height": 558
    },
    "executionInfo": {
     "elapsed": 585,
     "status": "ok",
     "timestamp": 1730558048324,
     "user": {
      "displayName": "mostafa shehab",
      "userId": "04259138105991149129"
     },
     "user_tz": -120
    },
    "id": "UOcbFvK3tcYq",
    "outputId": "95d69753-2827-4538-c0b3-889b6aaf9c78"
   },
   "outputs": [
    {
     "name": "stdout",
     "output_type": "stream",
     "text": [
      "Accuracy Score Is: 0.5866666666666667\n",
      "Recall Score Is: 0.6493506493506493\n",
      "F1 Score Is: 0.6172839506172839\n",
      "Precision Score Is: 0.5882352941176471\n",
      "DecisionTree Report Is:\n",
      "               precision    recall  f1-score   support\n",
      "\n",
      "         0.0       0.58      0.52      0.55        73\n",
      "         1.0       0.59      0.65      0.62        77\n",
      "\n",
      "    accuracy                           0.59       150\n",
      "   macro avg       0.59      0.58      0.58       150\n",
      "weighted avg       0.59      0.59      0.58       150\n",
      "\n"
     ]
    },
    {
     "data": {
      "image/png": "[encoded data removed]",
      "text/plain": [
       "<Figure size 2000x500 with 2 Axes>"
      ]
     },
     "metadata": {},
     "output_type": "display_data"
    }
   ],
   "source": [
    "# Evaluate the model\n",
    "accuracy_dt = accuracy_score(y_test, y_pred_dt)\n",
    "precision_dt = precision_score(y_test, y_pred_dt)\n",
    "recall_dt = recall_score(y_test, y_pred_dt)\n",
    "f1_dt = f1_score(y_test, y_pred_dt)\n",
    "confusion_dt = confusion_matrix(y_test, y_pred_dt)\n",
    "report_dt = classification_report(y_test, y_pred_dt)\n",
    "\n",
    "plt.figure(figsize=(20,5))\n",
    "sns.heatmap(confusion_matrix(y_pred_dt , y_test) , annot=True , cmap=\"YlGnBu\")\n",
    "print(\"Accuracy Score Is:\" , accuracy_dt)\n",
    "print(\"Recall Score Is:\" , recall_dt)\n",
    "print(\"F1 Score Is:\", f1_dt)\n",
    "print(\"Precision Score Is:\" , precision_dt)\n",
    "print(\"DecisionTree Report Is:\\n\" , report_dt)\n",
    "plt.show()"
   ]
  },
  {
   "cell_type": "code",
   "execution_count": 126,
   "id": "ztjOg1IXtdyp",
   "metadata": {
    "executionInfo": {
     "elapsed": 267,
     "status": "ok",
     "timestamp": 1730558052906,
     "user": {
      "displayName": "mostafa shehab",
      "userId": "04259138105991149129"
     },
     "user_tz": -120
    },
    "id": "ztjOg1IXtdyp"
   },
   "outputs": [],
   "source": [
    "# storing model data\n",
    "accuracy_all.append(accuracy_dt)\n",
    "recall_all.append(recall_dt)\n",
    "f1_all.append(f1_dt)\n",
    "precision_all.append(precision_dt)"
   ]
  },
  {
   "cell_type": "markdown",
   "id": "-DQ8qq52pFeL",
   "metadata": {
    "id": "-DQ8qq52pFeL"
   },
   "source": [
    "* ## <u>RandomForestClassifier Model</u>"
   ]
  },
  {
   "cell_type": "code",
   "execution_count": 127,
   "id": "Jg_76y64teRm",
   "metadata": {
    "colab": {
     "base_uri": "https://localhost:8080/"
    },
    "executionInfo": {
     "elapsed": 374,
     "status": "ok",
     "timestamp": 1730558054644,
     "user": {
      "displayName": "mostafa shehab",
      "userId": "04259138105991149129"
     },
     "user_tz": -120
    },
    "id": "Jg_76y64teRm",
    "outputId": "e13d3a00-7602-427c-e101-e75bd8087af4"
   },
   "outputs": [
    {
     "data": {
      "text/plain": [
       "array([[0.68, 0.32],\n",
       "       [0.7 , 0.3 ],\n",
       "       [0.71, 0.29],\n",
       "       [0.44, 0.56],\n",
       "       [0.2 , 0.8 ],\n",
       "       [0.21, 0.79],\n",
       "       [0.21, 0.79],\n",
       "       [0.79, 0.21],\n",
       "       [0.52, 0.48],\n",
       "       [0.34, 0.66],\n",
       "       [0.38, 0.62],\n",
       "       [0.65, 0.35],\n",
       "       [0.95, 0.05],\n",
       "       [0.33, 0.67],\n",
       "       [0.86, 0.14],\n",
       "       [0.02, 0.98],\n",
       "       [0.52, 0.48],\n",
       "       [0.39, 0.61],\n",
       "       [0.45, 0.55],\n",
       "       [0.57, 0.43],\n",
       "       [0.28, 0.72],\n",
       "       [0.8 , 0.2 ],\n",
       "       [0.15, 0.85],\n",
       "       [0.31, 0.69],\n",
       "       [0.54, 0.46],\n",
       "       [0.36, 0.64],\n",
       "       [0.57, 0.43],\n",
       "       [0.21, 0.79],\n",
       "       [0.61, 0.39],\n",
       "       [0.81, 0.19],\n",
       "       [0.31, 0.69],\n",
       "       [0.11, 0.89],\n",
       "       [0.98, 0.02],\n",
       "       [0.25, 0.75],\n",
       "       [0.51, 0.49],\n",
       "       [0.23, 0.77],\n",
       "       [0.26, 0.74],\n",
       "       [0.87, 0.13],\n",
       "       [0.32, 0.68],\n",
       "       [0.13, 0.87],\n",
       "       [0.7 , 0.3 ],\n",
       "       [0.18, 0.82],\n",
       "       [0.21, 0.79],\n",
       "       [0.82, 0.18],\n",
       "       [0.75, 0.25],\n",
       "       [0.81, 0.19],\n",
       "       [0.2 , 0.8 ],\n",
       "       [0.87, 0.13],\n",
       "       [0.09, 0.91],\n",
       "       [0.72, 0.28],\n",
       "       [0.07, 0.93],\n",
       "       [0.63, 0.37],\n",
       "       [0.31, 0.69],\n",
       "       [0.2 , 0.8 ],\n",
       "       [0.72, 0.28],\n",
       "       [0.37, 0.63],\n",
       "       [0.56, 0.44],\n",
       "       [0.39, 0.61],\n",
       "       [0.79, 0.21],\n",
       "       [0.08, 0.92],\n",
       "       [0.71, 0.29],\n",
       "       [0.13, 0.87],\n",
       "       [0.19, 0.81],\n",
       "       [0.66, 0.34],\n",
       "       [0.6 , 0.4 ],\n",
       "       [0.48, 0.52],\n",
       "       [0.21, 0.79],\n",
       "       [0.93, 0.07],\n",
       "       [0.31, 0.69],\n",
       "       [0.35, 0.65],\n",
       "       [0.99, 0.01],\n",
       "       [0.9 , 0.1 ],\n",
       "       [0.08, 0.92],\n",
       "       [0.18, 0.82],\n",
       "       [0.13, 0.87],\n",
       "       [0.8 , 0.2 ],\n",
       "       [0.37, 0.63],\n",
       "       [0.5 , 0.5 ],\n",
       "       [0.61, 0.39],\n",
       "       [0.67, 0.33],\n",
       "       [0.29, 0.71],\n",
       "       [0.21, 0.79],\n",
       "       [0.23, 0.77],\n",
       "       [0.34, 0.66],\n",
       "       [1.  , 0.  ],\n",
       "       [0.15, 0.85],\n",
       "       [0.18, 0.82],\n",
       "       [0.2 , 0.8 ],\n",
       "       [0.68, 0.32],\n",
       "       [0.48, 0.52],\n",
       "       [0.4 , 0.6 ],\n",
       "       [0.31, 0.69],\n",
       "       [0.76, 0.24],\n",
       "       [0.04, 0.96],\n",
       "       [0.09, 0.91],\n",
       "       [0.04, 0.96],\n",
       "       [0.06, 0.94],\n",
       "       [0.42, 0.58],\n",
       "       [0.63, 0.37],\n",
       "       [0.43, 0.57],\n",
       "       [0.19, 0.81],\n",
       "       [0.55, 0.45],\n",
       "       [0.98, 0.02],\n",
       "       [0.96, 0.04],\n",
       "       [0.78, 0.22],\n",
       "       [0.06, 0.94],\n",
       "       [0.43, 0.57],\n",
       "       [0.32, 0.68],\n",
       "       [0.68, 0.32],\n",
       "       [0.75, 0.25],\n",
       "       [0.57, 0.43],\n",
       "       [0.99, 0.01],\n",
       "       [0.12, 0.88],\n",
       "       [0.88, 0.12],\n",
       "       [0.67, 0.33],\n",
       "       [0.09, 0.91],\n",
       "       [1.  , 0.  ],\n",
       "       [0.12, 0.88],\n",
       "       [0.28, 0.72],\n",
       "       [0.4 , 0.6 ],\n",
       "       [0.3 , 0.7 ],\n",
       "       [0.67, 0.33],\n",
       "       [0.18, 0.82],\n",
       "       [0.68, 0.32],\n",
       "       [0.75, 0.25],\n",
       "       [0.19, 0.81],\n",
       "       [0.7 , 0.3 ],\n",
       "       [0.23, 0.77],\n",
       "       [0.68, 0.32],\n",
       "       [0.51, 0.49],\n",
       "       [0.38, 0.62],\n",
       "       [0.34, 0.66],\n",
       "       [0.94, 0.06],\n",
       "       [0.67, 0.33],\n",
       "       [0.7 , 0.3 ],\n",
       "       [0.88, 0.12],\n",
       "       [0.33, 0.67],\n",
       "       [0.15, 0.85],\n",
       "       [0.29, 0.71],\n",
       "       [0.18, 0.82],\n",
       "       [0.93, 0.07],\n",
       "       [0.91, 0.09],\n",
       "       [0.34, 0.66],\n",
       "       [0.05, 0.95],\n",
       "       [0.36, 0.64],\n",
       "       [0.48, 0.52],\n",
       "       [0.39, 0.61],\n",
       "       [0.76, 0.24],\n",
       "       [0.78, 0.22],\n",
       "       [0.93, 0.07]])"
      ]
     },
     "execution_count": 127,
     "metadata": {},
     "output_type": "execute_result"
    }
   ],
   "source": [
    "# Train Model\n",
    "model_RanF = RandomForestClassifier(random_state=42)\n",
    "model_RanF.fit(x_train, y_train)\n",
    "model_RanF.score(x_train, y_train)\n",
    "y_pred_RanF = model_RanF.predict(x_test)\n",
    "model_RanF.predict_proba(x_test)"
   ]
  },
  {
   "cell_type": "code",
   "execution_count": 128,
   "id": "91-pUj1Ttg4W",
   "metadata": {
    "colab": {
     "base_uri": "https://localhost:8080/",
     "height": 554
    },
    "executionInfo": {
     "elapsed": 338,
     "status": "ok",
     "timestamp": 1730558057908,
     "user": {
      "displayName": "mostafa shehab",
      "userId": "04259138105991149129"
     },
     "user_tz": -120
    },
    "id": "91-pUj1Ttg4W",
    "outputId": "2f797ea4-afa9-4d26-c09b-d079e684ec90"
   },
   "outputs": [
    {
     "name": "stdout",
     "output_type": "stream",
     "text": [
      "Accuracy Score Is: 0.6333333333333333\n",
      "Recall Score Is: 0.6753246753246753\n",
      "F1 Score Is: 0.6540880503144654\n",
      "Precision Score Is: 0.6341463414634146\n",
      "RandomForest Report Is:\n",
      "               precision    recall  f1-score   support\n",
      "\n",
      "         0.0       0.63      0.59      0.61        73\n",
      "         1.0       0.63      0.68      0.65        77\n",
      "\n",
      "    accuracy                           0.63       150\n",
      "   macro avg       0.63      0.63      0.63       150\n",
      "weighted avg       0.63      0.63      0.63       150\n",
      "\n"
     ]
    },
    {
     "data": {
      "image/png": "[encoded data removed]",
      "text/plain": [
       "<Figure size 2000x500 with 2 Axes>"
      ]
     },
     "metadata": {},
     "output_type": "display_data"
    }
   ],
   "source": [
    "# Evaluate the model\n",
    "accuracy_RanF = accuracy_score(y_test, y_pred_RanF)\n",
    "precision_RanF = precision_score(y_test, y_pred_RanF)\n",
    "recall_RanF = recall_score(y_test, y_pred_RanF)\n",
    "f1_RanF = f1_score(y_test, y_pred_RanF)\n",
    "confusion_RanF = confusion_matrix(y_test, y_pred_RanF)\n",
    "report_RanF = classification_report(y_test, y_pred_RanF)\n",
    "\n",
    "plt.figure(figsize=(20,5))\n",
    "sns.heatmap(confusion_matrix(y_pred_RanF , y_test) , annot=True , cmap=\"YlGnBu\")\n",
    "print(\"Accuracy Score Is:\" , accuracy_RanF)\n",
    "print(\"Recall Score Is:\" , recall_RanF)\n",
    "print(\"F1 Score Is:\", f1_RanF)\n",
    "print(\"Precision Score Is:\" , precision_RanF)\n",
    "print(\"RandomForest Report Is:\\n\" , report_RanF)\n",
    "plt.show()"
   ]
  },
  {
   "cell_type": "code",
   "execution_count": 129,
   "id": "dO0NAghotlE9",
   "metadata": {
    "executionInfo": {
     "elapsed": 291,
     "status": "ok",
     "timestamp": 1730558061476,
     "user": {
      "displayName": "mostafa shehab",
      "userId": "04259138105991149129"
     },
     "user_tz": -120
    },
    "id": "dO0NAghotlE9"
   },
   "outputs": [],
   "source": [
    "# storing model data\n",
    "accuracy_all.append(accuracy_RanF)\n",
    "recall_all.append(recall_RanF)\n",
    "f1_all.append(f1_RanF)\n",
    "precision_all.append(precision_RanF)"
   ]
  },
  {
   "cell_type": "markdown",
   "id": "T4DF2xI9pFT9",
   "metadata": {
    "id": "T4DF2xI9pFT9"
   },
   "source": [
    "* ## <u>GradientBoostingClassifier Model</u>"
   ]
  },
  {
   "cell_type": "code",
   "execution_count": 130,
   "id": "c6HlNDfetnQa",
   "metadata": {
    "colab": {
     "base_uri": "https://localhost:8080/"
    },
    "executionInfo": {
     "elapsed": 280,
     "status": "ok",
     "timestamp": 1730558064250,
     "user": {
      "displayName": "mostafa shehab",
      "userId": "04259138105991149129"
     },
     "user_tz": -120
    },
    "id": "c6HlNDfetnQa",
    "outputId": "741c5bdc-5f41-42f0-ef47-b0a7781262c3"
   },
   "outputs": [
    {
     "data": {
      "text/plain": [
       "array([[0.72688865, 0.27311135],\n",
       "       [0.69339179, 0.30660821],\n",
       "       [0.77562621, 0.22437379],\n",
       "       [0.25403839, 0.74596161],\n",
       "       [0.14183269, 0.85816731],\n",
       "       [0.59923588, 0.40076412],\n",
       "       [0.28270949, 0.71729051],\n",
       "       [0.6884792 , 0.3115208 ],\n",
       "       [0.64436976, 0.35563024],\n",
       "       [0.36364771, 0.63635229],\n",
       "       [0.25923838, 0.74076162],\n",
       "       [0.42455119, 0.57544881],\n",
       "       [0.85324422, 0.14675578],\n",
       "       [0.42439262, 0.57560738],\n",
       "       [0.66231203, 0.33768797],\n",
       "       [0.04304634, 0.95695366],\n",
       "       [0.30616557, 0.69383443],\n",
       "       [0.73774598, 0.26225402],\n",
       "       [0.64729037, 0.35270963],\n",
       "       [0.36177461, 0.63822539],\n",
       "       [0.27778882, 0.72221118],\n",
       "       [0.58237549, 0.41762451],\n",
       "       [0.26116942, 0.73883058],\n",
       "       [0.2152301 , 0.7847699 ],\n",
       "       [0.53538493, 0.46461507],\n",
       "       [0.5606051 , 0.4393949 ],\n",
       "       [0.5125477 , 0.4874523 ],\n",
       "       [0.54083825, 0.45916175],\n",
       "       [0.58235425, 0.41764575],\n",
       "       [0.78090597, 0.21909403],\n",
       "       [0.5462374 , 0.4537626 ],\n",
       "       [0.28750542, 0.71249458],\n",
       "       [0.63210143, 0.36789857],\n",
       "       [0.32596007, 0.67403993],\n",
       "       [0.65311884, 0.34688116],\n",
       "       [0.37094162, 0.62905838],\n",
       "       [0.4343315 , 0.5656685 ],\n",
       "       [0.91021346, 0.08978654],\n",
       "       [0.40292341, 0.59707659],\n",
       "       [0.10135698, 0.89864302],\n",
       "       [0.69709821, 0.30290179],\n",
       "       [0.23274941, 0.76725059],\n",
       "       [0.50308774, 0.49691226],\n",
       "       [0.70617431, 0.29382569],\n",
       "       [0.59780919, 0.40219081],\n",
       "       [0.76027891, 0.23972109],\n",
       "       [0.35373347, 0.64626653],\n",
       "       [0.64823194, 0.35176806],\n",
       "       [0.6237377 , 0.3762623 ],\n",
       "       [0.65311884, 0.34688116],\n",
       "       [0.33765957, 0.66234043],\n",
       "       [0.5125477 , 0.4874523 ],\n",
       "       [0.47253049, 0.52746951],\n",
       "       [0.30756072, 0.69243928],\n",
       "       [0.48788181, 0.51211819],\n",
       "       [0.49502541, 0.50497459],\n",
       "       [0.66052222, 0.33947778],\n",
       "       [0.73319084, 0.26680916],\n",
       "       [0.5110983 , 0.4889017 ],\n",
       "       [0.1524871 , 0.8475129 ],\n",
       "       [0.65347717, 0.34652283],\n",
       "       [0.32475724, 0.67524276],\n",
       "       [0.47377843, 0.52622157],\n",
       "       [0.54543101, 0.45456899],\n",
       "       [0.39013437, 0.60986563],\n",
       "       [0.30616557, 0.69383443],\n",
       "       [0.37094162, 0.62905838],\n",
       "       [0.76416115, 0.23583885],\n",
       "       [0.38405656, 0.61594344],\n",
       "       [0.54083825, 0.45916175],\n",
       "       [0.81896788, 0.18103212],\n",
       "       [0.68714536, 0.31285464],\n",
       "       [0.25984613, 0.74015387],\n",
       "       [0.28750542, 0.71249458],\n",
       "       [0.33968231, 0.66031769],\n",
       "       [0.57042047, 0.42957953],\n",
       "       [0.87489469, 0.12510531],\n",
       "       [0.32905308, 0.67094692],\n",
       "       [0.56548049, 0.43451951],\n",
       "       [0.87265737, 0.12734263],\n",
       "       [0.21131781, 0.78868219],\n",
       "       [0.3538523 , 0.6461477 ],\n",
       "       [0.18925836, 0.81074164],\n",
       "       [0.49226478, 0.50773522],\n",
       "       [0.75932314, 0.24067686],\n",
       "       [0.29288699, 0.70711301],\n",
       "       [0.30065449, 0.69934551],\n",
       "       [0.43929986, 0.56070014],\n",
       "       [0.72618415, 0.27381585],\n",
       "       [0.419214  , 0.580786  ],\n",
       "       [0.23687752, 0.76312248],\n",
       "       [0.45870606, 0.54129394],\n",
       "       [0.89111151, 0.10888849],\n",
       "       [0.24439458, 0.75560542],\n",
       "       [0.20643514, 0.79356486],\n",
       "       [0.04587995, 0.95412005],\n",
       "       [0.29288699, 0.70711301],\n",
       "       [0.52973552, 0.47026448],\n",
       "       [0.73319084, 0.26680916],\n",
       "       [0.42068258, 0.57931742],\n",
       "       [0.63357911, 0.36642089],\n",
       "       [0.7517787 , 0.2482213 ],\n",
       "       [0.67726978, 0.32273022],\n",
       "       [0.74361478, 0.25638522],\n",
       "       [0.5462374 , 0.4537626 ],\n",
       "       [0.23374046, 0.76625954],\n",
       "       [0.36822334, 0.63177666],\n",
       "       [0.57797137, 0.42202863],\n",
       "       [0.41876853, 0.58123147],\n",
       "       [0.15206308, 0.84793692],\n",
       "       [0.59523419, 0.40476581],\n",
       "       [0.86797812, 0.13202188],\n",
       "       [0.33968231, 0.66031769],\n",
       "       [0.75469749, 0.24530251],\n",
       "       [0.47558101, 0.52441899],\n",
       "       [0.22389286, 0.77610714],\n",
       "       [0.75932314, 0.24067686],\n",
       "       [0.23452706, 0.76547294],\n",
       "       [0.38957466, 0.61042534],\n",
       "       [0.32475724, 0.67524276],\n",
       "       [0.35421284, 0.64578716],\n",
       "       [0.32561793, 0.67438207],\n",
       "       [0.26116942, 0.73883058],\n",
       "       [0.56411479, 0.43588521],\n",
       "       [0.42379476, 0.57620524],\n",
       "       [0.55771548, 0.44228452],\n",
       "       [0.44741174, 0.55258826],\n",
       "       [0.56201962, 0.43798038],\n",
       "       [0.67184103, 0.32815897],\n",
       "       [0.45735809, 0.54264191],\n",
       "       [0.49521834, 0.50478166],\n",
       "       [0.5805775 , 0.4194225 ],\n",
       "       [0.38480153, 0.61519847],\n",
       "       [0.55813888, 0.44186112],\n",
       "       [0.65311884, 0.34688116],\n",
       "       [0.74599412, 0.25400588],\n",
       "       [0.30588408, 0.69411592],\n",
       "       [0.189638  , 0.810362  ],\n",
       "       [0.31496597, 0.68503403],\n",
       "       [0.36357362, 0.63642638],\n",
       "       [0.78430344, 0.21569656],\n",
       "       [0.6430269 , 0.3569731 ],\n",
       "       [0.43058231, 0.56941769],\n",
       "       [0.12856379, 0.87143621],\n",
       "       [0.52509719, 0.47490281],\n",
       "       [0.56222308, 0.43777692],\n",
       "       [0.24898045, 0.75101955],\n",
       "       [0.58669072, 0.41330928],\n",
       "       [0.51652218, 0.48347782],\n",
       "       [0.69105656, 0.30894344]])"
      ]
     },
     "execution_count": 130,
     "metadata": {},
     "output_type": "execute_result"
    }
   ],
   "source": [
    "# Train Model\n",
    "model_Grad = GradientBoostingClassifier(random_state=42)\n",
    "model_Grad.fit(x_train, y_train)\n",
    "model_Grad.score(x_train, y_train)\n",
    "y_pred_Grad = model_Grad.predict(x_test)\n",
    "model_Grad.predict_proba(x_test)"
   ]
  },
  {
   "cell_type": "code",
   "execution_count": 131,
   "id": "-wD0sV45town",
   "metadata": {
    "colab": {
     "base_uri": "https://localhost:8080/",
     "height": 554
    },
    "executionInfo": {
     "elapsed": 717,
     "status": "ok",
     "timestamp": 1730558067412,
     "user": {
      "displayName": "mostafa shehab",
      "userId": "04259138105991149129"
     },
     "user_tz": -120
    },
    "id": "-wD0sV45town",
    "outputId": "578bd38e-002c-4c6c-befd-1923a0fde730"
   },
   "outputs": [
    {
     "name": "stdout",
     "output_type": "stream",
     "text": [
      "Accuracy Score Is: 0.5733333333333334\n",
      "Recall Score Is: 0.5844155844155844\n",
      "F1 Score Is: 0.5844155844155844\n",
      "Precision Score Is: 0.5844155844155844\n",
      "GradientBoosting Report Is:\n",
      "               precision    recall  f1-score   support\n",
      "\n",
      "         0.0       0.56      0.56      0.56        73\n",
      "         1.0       0.58      0.58      0.58        77\n",
      "\n",
      "    accuracy                           0.57       150\n",
      "   macro avg       0.57      0.57      0.57       150\n",
      "weighted avg       0.57      0.57      0.57       150\n",
      "\n"
     ]
    },
    {
     "data": {
      "image/png": "[encoded data removed]",
      "text/plain": [
       "<Figure size 2000x500 with 2 Axes>"
      ]
     },
     "metadata": {},
     "output_type": "display_data"
    }
   ],
   "source": [
    "# Evaluate the model\n",
    "accuracy_Grad = accuracy_score(y_test, y_pred_Grad)\n",
    "precision_Grad = precision_score(y_test, y_pred_Grad)\n",
    "recall_Grad = recall_score(y_test, y_pred_Grad)\n",
    "f1_Grad = f1_score(y_test, y_pred_Grad)\n",
    "confusion_Grad = confusion_matrix(y_test, y_pred_Grad)\n",
    "report_Grad = classification_report(y_test, y_pred_Grad)\n",
    "\n",
    "plt.figure(figsize=(20,5))\n",
    "sns.heatmap(confusion_matrix(y_pred_Grad , y_test) , annot=True , cmap=\"YlGnBu\")\n",
    "print(\"Accuracy Score Is:\" , accuracy_Grad)\n",
    "print(\"Recall Score Is:\" , recall_Grad)\n",
    "print(\"F1 Score Is:\", f1_Grad)\n",
    "print(\"Precision Score Is:\" , precision_Grad)\n",
    "print(\"GradientBoosting Report Is:\\n\" , report_Grad)\n",
    "plt.show()"
   ]
  },
  {
   "cell_type": "code",
   "execution_count": 132,
   "id": "coKWMzqytqGg",
   "metadata": {
    "executionInfo": {
     "elapsed": 349,
     "status": "ok",
     "timestamp": 1730558070969,
     "user": {
      "displayName": "mostafa shehab",
      "userId": "04259138105991149129"
     },
     "user_tz": -120
    },
    "id": "coKWMzqytqGg"
   },
   "outputs": [],
   "source": [
    "# storing model data\n",
    "accuracy_all.append(accuracy_Grad)\n",
    "recall_all.append(recall_Grad)\n",
    "f1_all.append(f1_Grad)\n",
    "precision_all.append(precision_Grad)"
   ]
  },
  {
   "cell_type": "markdown",
   "id": "40ktFTfUpFJ5",
   "metadata": {
    "id": "40ktFTfUpFJ5"
   },
   "source": [
    "* ## <u>KNeighborsClassifier Model</u>"
   ]
  },
  {
   "cell_type": "code",
   "execution_count": 133,
   "id": "xagUXuIJtsAC",
   "metadata": {
    "colab": {
     "base_uri": "https://localhost:8080/"
    },
    "executionInfo": {
     "elapsed": 335,
     "status": "ok",
     "timestamp": 1730558072569,
     "user": {
      "displayName": "mostafa shehab",
      "userId": "04259138105991149129"
     },
     "user_tz": -120
    },
    "id": "xagUXuIJtsAC",
    "outputId": "bb3603fc-2970-4e7b-c4d1-0f31e8159775"
   },
   "outputs": [
    {
     "data": {
      "text/plain": [
       "array([[0.8, 0.2],\n",
       "       [1. , 0. ],\n",
       "       [0.8, 0.2],\n",
       "       [0.4, 0.6],\n",
       "       [0. , 1. ],\n",
       "       [0. , 1. ],\n",
       "       [0. , 1. ],\n",
       "       [0.8, 0.2],\n",
       "       [0.4, 0.6],\n",
       "       [0.4, 0.6],\n",
       "       [0.8, 0.2],\n",
       "       [1. , 0. ],\n",
       "       [0.8, 0.2],\n",
       "       [0.8, 0.2],\n",
       "       [1. , 0. ],\n",
       "       [0.2, 0.8],\n",
       "       [0.4, 0.6],\n",
       "       [0.6, 0.4],\n",
       "       [0. , 1. ],\n",
       "       [0.8, 0.2],\n",
       "       [0.6, 0.4],\n",
       "       [0.6, 0.4],\n",
       "       [0.8, 0.2],\n",
       "       [0.2, 0.8],\n",
       "       [0.6, 0.4],\n",
       "       [0.6, 0.4],\n",
       "       [0.4, 0.6],\n",
       "       [0.4, 0.6],\n",
       "       [1. , 0. ],\n",
       "       [1. , 0. ],\n",
       "       [0.6, 0.4],\n",
       "       [0. , 1. ],\n",
       "       [1. , 0. ],\n",
       "       [0. , 1. ],\n",
       "       [0.6, 0.4],\n",
       "       [0.2, 0.8],\n",
       "       [0.6, 0.4],\n",
       "       [1. , 0. ],\n",
       "       [0.8, 0.2],\n",
       "       [0.6, 0.4],\n",
       "       [0.4, 0.6],\n",
       "       [0.2, 0.8],\n",
       "       [0.6, 0.4],\n",
       "       [1. , 0. ],\n",
       "       [1. , 0. ],\n",
       "       [0.8, 0.2],\n",
       "       [0. , 1. ],\n",
       "       [0.6, 0.4],\n",
       "       [0.6, 0.4],\n",
       "       [0.6, 0.4],\n",
       "       [0.2, 0.8],\n",
       "       [1. , 0. ],\n",
       "       [0.8, 0.2],\n",
       "       [0. , 1. ],\n",
       "       [0.6, 0.4],\n",
       "       [0.4, 0.6],\n",
       "       [0.6, 0.4],\n",
       "       [0.8, 0.2],\n",
       "       [0.6, 0.4],\n",
       "       [0. , 1. ],\n",
       "       [0.6, 0.4],\n",
       "       [0.6, 0.4],\n",
       "       [0. , 1. ],\n",
       "       [0.8, 0.2],\n",
       "       [0.8, 0.2],\n",
       "       [0.6, 0.4],\n",
       "       [0.2, 0.8],\n",
       "       [0.8, 0.2],\n",
       "       [0.2, 0.8],\n",
       "       [0.6, 0.4],\n",
       "       [1. , 0. ],\n",
       "       [0.8, 0.2],\n",
       "       [0.4, 0.6],\n",
       "       [0.2, 0.8],\n",
       "       [0.2, 0.8],\n",
       "       [0.8, 0.2],\n",
       "       [0.2, 0.8],\n",
       "       [0.6, 0.4],\n",
       "       [0.6, 0.4],\n",
       "       [0.6, 0.4],\n",
       "       [0.6, 0.4],\n",
       "       [0.6, 0.4],\n",
       "       [0.8, 0.2],\n",
       "       [0.8, 0.2],\n",
       "       [1. , 0. ],\n",
       "       [0.4, 0.6],\n",
       "       [0.4, 0.6],\n",
       "       [0.6, 0.4],\n",
       "       [0.8, 0.2],\n",
       "       [0.6, 0.4],\n",
       "       [0.6, 0.4],\n",
       "       [0.4, 0.6],\n",
       "       [0.6, 0.4],\n",
       "       [0.2, 0.8],\n",
       "       [0.2, 0.8],\n",
       "       [0.4, 0.6],\n",
       "       [0. , 1. ],\n",
       "       [0.4, 0.6],\n",
       "       [0.6, 0.4],\n",
       "       [0.6, 0.4],\n",
       "       [0. , 1. ],\n",
       "       [0.8, 0.2],\n",
       "       [0.8, 0.2],\n",
       "       [1. , 0. ],\n",
       "       [0.6, 0.4],\n",
       "       [0.4, 0.6],\n",
       "       [0.8, 0.2],\n",
       "       [0.8, 0.2],\n",
       "       [0.8, 0.2],\n",
       "       [0.8, 0.2],\n",
       "       [0.6, 0.4],\n",
       "       [1. , 0. ],\n",
       "       [0. , 1. ],\n",
       "       [1. , 0. ],\n",
       "       [0.8, 0.2],\n",
       "       [0. , 1. ],\n",
       "       [1. , 0. ],\n",
       "       [0.4, 0.6],\n",
       "       [0.6, 0.4],\n",
       "       [0.6, 0.4],\n",
       "       [0.4, 0.6],\n",
       "       [0.6, 0.4],\n",
       "       [0.8, 0.2],\n",
       "       [0.6, 0.4],\n",
       "       [0.8, 0.2],\n",
       "       [0.4, 0.6],\n",
       "       [0.6, 0.4],\n",
       "       [0.4, 0.6],\n",
       "       [0.8, 0.2],\n",
       "       [0.6, 0.4],\n",
       "       [0.6, 0.4],\n",
       "       [0.4, 0.6],\n",
       "       [0.8, 0.2],\n",
       "       [0.6, 0.4],\n",
       "       [0.6, 0.4],\n",
       "       [0.8, 0.2],\n",
       "       [0.2, 0.8],\n",
       "       [0.6, 0.4],\n",
       "       [0.4, 0.6],\n",
       "       [0. , 1. ],\n",
       "       [0.8, 0.2],\n",
       "       [0.6, 0.4],\n",
       "       [0.2, 0.8],\n",
       "       [0.4, 0.6],\n",
       "       [0.4, 0.6],\n",
       "       [0.6, 0.4],\n",
       "       [0.4, 0.6],\n",
       "       [0.6, 0.4],\n",
       "       [0.8, 0.2],\n",
       "       [1. , 0. ]])"
      ]
     },
     "execution_count": 133,
     "metadata": {},
     "output_type": "execute_result"
    }
   ],
   "source": [
    "# Train Model\n",
    "model_KN = KNeighborsClassifier(n_neighbors=5)\n",
    "model_KN.fit(x_train, y_train)\n",
    "model_KN.score(x_train, y_train)\n",
    "y_pred_KN = model_KN.predict(x_test)\n",
    "model_KN.predict_proba(x_test)"
   ]
  },
  {
   "cell_type": "code",
   "execution_count": 134,
   "id": "a6ind_qXttV8",
   "metadata": {
    "colab": {
     "base_uri": "https://localhost:8080/",
     "height": 554
    },
    "executionInfo": {
     "elapsed": 683,
     "status": "ok",
     "timestamp": 1730558075959,
     "user": {
      "displayName": "mostafa shehab",
      "userId": "04259138105991149129"
     },
     "user_tz": -120
    },
    "id": "a6ind_qXttV8",
    "outputId": "1eafb436-ce1f-40ed-c758-4addcbe6a2af"
   },
   "outputs": [
    {
     "name": "stdout",
     "output_type": "stream",
     "text": [
      "Accuracy Score Is: 0.6133333333333333\n",
      "Recall Score Is: 0.4675324675324675\n",
      "F1 Score Is: 0.5538461538461539\n",
      "Precision Score Is: 0.6792452830188679\n",
      "KNeighbors Report Is:\n",
      "               precision    recall  f1-score   support\n",
      "\n",
      "         0.0       0.58      0.77      0.66        73\n",
      "         1.0       0.68      0.47      0.55        77\n",
      "\n",
      "    accuracy                           0.61       150\n",
      "   macro avg       0.63      0.62      0.61       150\n",
      "weighted avg       0.63      0.61      0.60       150\n",
      "\n"
     ]
    },
    {
     "data": {
      "image/png": "[encoded data removed]",
      "text/plain": [
       "<Figure size 2000x500 with 2 Axes>"
      ]
     },
     "metadata": {},
     "output_type": "display_data"
    }
   ],
   "source": [
    "# Evaluate the model\n",
    "accuracy_KN = accuracy_score(y_test, y_pred_KN)\n",
    "precision_KN = precision_score(y_test, y_pred_KN)\n",
    "recall_KN = recall_score(y_test, y_pred_KN)\n",
    "f1_KN = f1_score(y_test, y_pred_KN)\n",
    "confusion_KN = confusion_matrix(y_test, y_pred_KN)\n",
    "report_KN = classification_report(y_test, y_pred_KN)\n",
    "\n",
    "plt.figure(figsize=(20,5))\n",
    "sns.heatmap(confusion_matrix(y_pred_KN , y_test) , annot=True , cmap=\"YlGnBu\")\n",
    "print(\"Accuracy Score Is:\" , accuracy_KN)\n",
    "print(\"Recall Score Is:\" , recall_KN)\n",
    "print(\"F1 Score Is:\", f1_KN)\n",
    "print(\"Precision Score Is:\" , precision_KN)\n",
    "print(\"KNeighbors Report Is:\\n\" , report_KN)\n",
    "plt.show()"
   ]
  },
  {
   "cell_type": "code",
   "execution_count": 135,
   "id": "4-CclFvQtuxn",
   "metadata": {
    "executionInfo": {
     "elapsed": 332,
     "status": "ok",
     "timestamp": 1730558079935,
     "user": {
      "displayName": "mostafa shehab",
      "userId": "04259138105991149129"
     },
     "user_tz": -120
    },
    "id": "4-CclFvQtuxn"
   },
   "outputs": [],
   "source": [
    "# storing model data\n",
    "accuracy_all.append(accuracy_KN)\n",
    "recall_all.append(recall_KN)\n",
    "f1_all.append(f1_KN)\n",
    "precision_all.append(precision_KN)"
   ]
  },
  {
   "cell_type": "markdown",
   "id": "ZDVGsQ3LpE_1",
   "metadata": {
    "id": "ZDVGsQ3LpE_1"
   },
   "source": [
    "* ## <u>Ploting Model data and Compare</u>"
   ]
  },
  {
   "cell_type": "code",
   "execution_count": 136,
   "id": "ocaRuJCHtwk5",
   "metadata": {
    "colab": {
     "base_uri": "https://localhost:8080/",
     "height": 206
    },
    "executionInfo": {
     "elapsed": 278,
     "status": "ok",
     "timestamp": 1730558081276,
     "user": {
      "displayName": "mostafa shehab",
      "userId": "04259138105991149129"
     },
     "user_tz": -120
    },
    "id": "ocaRuJCHtwk5",
    "outputId": "9c6cd037-f141-416a-d3d1-1608ea3d3fab"
   },
   "outputs": [
    {
     "data": {
      "text/html": [
       "<style type=\"text/css\">\n",
       "#T_83362_row0_col1 {\n",
       "  background-color: #31a5c2;\n",
       "  color: #f1f1f1;\n",
       "}\n",
       "#T_83362_row0_col2 {\n",
       "  background-color: #61c2bf;\n",
       "  color: #000000;\n",
       "}\n",
       "#T_83362_row0_col3 {\n",
       "  background-color: #76cabc;\n",
       "  color: #000000;\n",
       "}\n",
       "#T_83362_row0_col4 {\n",
       "  background-color: #3fb4c4;\n",
       "  color: #f1f1f1;\n",
       "}\n",
       "#T_83362_row1_col1 {\n",
       "  background-color: #d0edb3;\n",
       "  color: #000000;\n",
       "}\n",
       "#T_83362_row1_col2 {\n",
       "  background-color: #243392;\n",
       "  color: #f1f1f1;\n",
       "}\n",
       "#T_83362_row1_col3 {\n",
       "  background-color: #1d8dbe;\n",
       "  color: #f1f1f1;\n",
       "}\n",
       "#T_83362_row1_col4 {\n",
       "  background-color: #f9fdcc;\n",
       "  color: #000000;\n",
       "}\n",
       "#T_83362_row2_col1, #T_83362_row2_col2, #T_83362_row2_col3, #T_83362_row4_col4 {\n",
       "  background-color: #081d58;\n",
       "  color: #f1f1f1;\n",
       "}\n",
       "#T_83362_row2_col4 {\n",
       "  background-color: #3aaec3;\n",
       "  color: #f1f1f1;\n",
       "}\n",
       "#T_83362_row3_col1, #T_83362_row3_col4, #T_83362_row4_col2, #T_83362_row4_col3 {\n",
       "  background-color: #ffffd9;\n",
       "  color: #000000;\n",
       "}\n",
       "#T_83362_row3_col2 {\n",
       "  background-color: #2fa4c2;\n",
       "  color: #f1f1f1;\n",
       "}\n",
       "#T_83362_row3_col3 {\n",
       "  background-color: #a7dcb7;\n",
       "  color: #000000;\n",
       "}\n",
       "#T_83362_row4_col1 {\n",
       "  background-color: #1f80b8;\n",
       "  color: #f1f1f1;\n",
       "}\n",
       "</style>\n",
       "<table id=\"T_83362\" class=\"dataframe\">\n",
       "  <thead>\n",
       "    <tr>\n",
       "      <th class=\"blank level0\" >&nbsp;</th>\n",
       "      <th id=\"T_83362_level0_col0\" class=\"col_heading level0 col0\" >Modele Name</th>\n",
       "      <th id=\"T_83362_level0_col1\" class=\"col_heading level0 col1\" >accuracy </th>\n",
       "      <th id=\"T_83362_level0_col2\" class=\"col_heading level0 col2\" >Recall </th>\n",
       "      <th id=\"T_83362_level0_col3\" class=\"col_heading level0 col3\" >F1 </th>\n",
       "      <th id=\"T_83362_level0_col4\" class=\"col_heading level0 col4\" >Precision </th>\n",
       "    </tr>\n",
       "  </thead>\n",
       "  <tbody>\n",
       "    <tr>\n",
       "      <th id=\"T_83362_level0_row0\" class=\"row_heading level0 row0\" >0</th>\n",
       "      <td id=\"T_83362_row0_col0\" class=\"data row0 col0\" >LogisticRegression</td>\n",
       "      <td id=\"T_83362_row0_col1\" class=\"data row0 col1\" >0.606667</td>\n",
       "      <td id=\"T_83362_row0_col2\" class=\"data row0 col2\" >0.558442</td>\n",
       "      <td id=\"T_83362_row0_col3\" class=\"data row0 col3\" >0.593103</td>\n",
       "      <td id=\"T_83362_row0_col4\" class=\"data row0 col4\" >0.632353</td>\n",
       "    </tr>\n",
       "    <tr>\n",
       "      <th id=\"T_83362_level0_row1\" class=\"row_heading level0 row1\" >1</th>\n",
       "      <td id=\"T_83362_row1_col0\" class=\"data row1 col0\" >DecisionTreeClassifier</td>\n",
       "      <td id=\"T_83362_row1_col1\" class=\"data row1 col1\" >0.586667</td>\n",
       "      <td id=\"T_83362_row1_col2\" class=\"data row1 col2\" >0.649351</td>\n",
       "      <td id=\"T_83362_row1_col3\" class=\"data row1 col3\" >0.617284</td>\n",
       "      <td id=\"T_83362_row1_col4\" class=\"data row1 col4\" >0.588235</td>\n",
       "    </tr>\n",
       "    <tr>\n",
       "      <th id=\"T_83362_level0_row2\" class=\"row_heading level0 row2\" >2</th>\n",
       "      <td id=\"T_83362_row2_col0\" class=\"data row2 col0\" >RandomForestClassifier</td>\n",
       "      <td id=\"T_83362_row2_col1\" class=\"data row2 col1\" >0.633333</td>\n",
       "      <td id=\"T_83362_row2_col2\" class=\"data row2 col2\" >0.675325</td>\n",
       "      <td id=\"T_83362_row2_col3\" class=\"data row2 col3\" >0.654088</td>\n",
       "      <td id=\"T_83362_row2_col4\" class=\"data row2 col4\" >0.634146</td>\n",
       "    </tr>\n",
       "    <tr>\n",
       "      <th id=\"T_83362_level0_row3\" class=\"row_heading level0 row3\" >3</th>\n",
       "      <td id=\"T_83362_row3_col0\" class=\"data row3 col0\" >GradientBoostingClassifier</td>\n",
       "      <td id=\"T_83362_row3_col1\" class=\"data row3 col1\" >0.573333</td>\n",
       "      <td id=\"T_83362_row3_col2\" class=\"data row3 col2\" >0.584416</td>\n",
       "      <td id=\"T_83362_row3_col3\" class=\"data row3 col3\" >0.584416</td>\n",
       "      <td id=\"T_83362_row3_col4\" class=\"data row3 col4\" >0.584416</td>\n",
       "    </tr>\n",
       "    <tr>\n",
       "      <th id=\"T_83362_level0_row4\" class=\"row_heading level0 row4\" >4</th>\n",
       "      <td id=\"T_83362_row4_col0\" class=\"data row4 col0\" >KNeighborsClassifier</td>\n",
       "      <td id=\"T_83362_row4_col1\" class=\"data row4 col1\" >0.613333</td>\n",
       "      <td id=\"T_83362_row4_col2\" class=\"data row4 col2\" >0.467532</td>\n",
       "      <td id=\"T_83362_row4_col3\" class=\"data row4 col3\" >0.553846</td>\n",
       "      <td id=\"T_83362_row4_col4\" class=\"data row4 col4\" >0.679245</td>\n",
       "    </tr>\n",
       "  </tbody>\n",
       "</table>\n"
      ],
      "text/plain": [
       "<pandas.io.formats.style.Styler at 0x7be4f5de7220>"
      ]
     },
     "execution_count": 136,
     "metadata": {},
     "output_type": "execute_result"
    }
   ],
   "source": [
    "final_all = pd.DataFrame({\"Modele Name\": Model_Name_all, \"accuracy \": accuracy_all, \"Recall \": recall_all, \"F1 \": f1_all, \"Precision \": precision_all})\n",
    "\n",
    "final_all.style.background_gradient(cmap=\"YlGnBu\", axis=0)"
   ]
  },
  {
   "cell_type": "code",
   "execution_count": 137,
   "id": "LA0MOs_rtxu_",
   "metadata": {
    "colab": {
     "base_uri": "https://localhost:8080/",
     "height": 273
    },
    "executionInfo": {
     "elapsed": 564,
     "status": "ok",
     "timestamp": 1730558089877,
     "user": {
      "displayName": "mostafa shehab",
      "userId": "04259138105991149129"
     },
     "user_tz": -120
    },
    "id": "LA0MOs_rtxu_",
    "outputId": "fdc660ad-899d-496e-a2ba-45f377f59193"
   },
   "outputs": [
    {
     "data": {
      "image/png": "[encoded data removed]",
      "text/plain": [
       "<Figure size 2000x500 with 1 Axes>"
      ]
     },
     "metadata": {},
     "output_type": "display_data"
    }
   ],
   "source": [
    "fig ,ax = plt.subplots(figsize=(20,5))\n",
    "\n",
    "plt.plot(final_all[\"Modele Name\"] , accuracy_all , label=\"accuracy\" )\n",
    "plt.plot(final_all[\"Modele Name\"] , recall_all , label=\"Recall\" )\n",
    "plt.plot(final_all[\"Modele Name\"] , f1_all , label=\"F1\" )\n",
    "plt.plot(final_all[\"Modele Name\"] , precision_all , label=\"Precision\" )\n",
    "\n",
    "plt.legend()\n",
    "plt.show()"
   ]
  },
  {
   "cell_type": "markdown",
   "id": "ZawTckLJpE0t",
   "metadata": {
    "id": "ZawTckLJpE0t"
   },
   "source": [
    "* ## <u>Saveing Model</u>"
   ]
  },
  {
   "cell_type": "code",
   "execution_count": null,
   "id": "5_bG3NaTtzDM",
   "metadata": {
    "id": "5_bG3NaTtzDM"
   },
   "outputs": [],
   "source": [
    "import pickle\n",
    "\n",
    "filename = \"Fraud_RandomForest.sav\"\n",
    "pickle.dump(model_RanF , open(filename,\"wb\"))"
   ]
  }
 ],
 "metadata": {
  "colab": {
   "provenance": []
  },
  "kernelspec": {
   "display_name": "Python 3",
   "name": "python3"
  },
  "language_info": {
   "codemirror_mode": {
    "name": "ipython",
    "version": 3
   },
   "file_extension": ".py",
   "mimetype": "text/x-python",
   "name": "python",
   "nbconvert_exporter": "python",
   "pygments_lexer": "ipython3",
   "version": "3.12.4"
  }
 },
 "nbformat": 4,
 "nbformat_minor": 5
}
